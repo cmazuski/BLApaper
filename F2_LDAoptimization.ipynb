{
 "cells": [
  {
   "cell_type": "code",
   "execution_count": 1,
   "metadata": {},
   "outputs": [
    {
     "name": "stdout",
     "output_type": "stream",
     "text": [
      "importing Jupyter notebook from func_analysis.ipynb\n",
      "importing Jupyter notebook from func_format.ipynb\n"
     ]
    }
   ],
   "source": [
    "##### Decoding of stimulus identity (time-course)\n",
    "\n",
    "import numpy as np\n",
    "import os\n",
    "import matplotlib.pyplot as plt\n",
    "from matplotlib import style\n",
    "style.use('ggplot')\n",
    "\n",
    "import import_ipynb\n",
    "import func_analysis\n",
    "import func_format\n",
    "\n",
    "from sklearn.discriminant_analysis import LinearDiscriminantAnalysis\n",
    "from sklearn import metrics\n",
    "from scipy import stats\n"
   ]
  },
  {
   "cell_type": "code",
   "execution_count": 4,
   "metadata": {},
   "outputs": [
    {
     "name": "stdout",
     "output_type": "stream",
     "text": [
      "Amygdala6 completed\n",
      "Amygdala8 completed\n",
      "Amygdala10 completed\n",
      "Amygdala11 completed\n"
     ]
    }
   ],
   "source": [
    "#### train classifier on all ROC data during stimulus presentation period\n",
    "\n",
    "ratID = ['Amygdala6', 'Amygdala8', 'Amygdala10', 'Amygdala11']\n",
    "date = ['13042019', '01102019', '27062020', '06072020']\n",
    "\n",
    "for r, rat in enumerate(ratID):\n",
    "\n",
    "    responsetype = np.loadtxt('F:/ResponseType/ResponseType_BLA/responseprofile.csv', delimiter = ',', dtype = str)\n",
    "    #neuronlist = responsetype[np.where((responsetype[:,0] == rat))][:,2]\n",
    "    neuronlist = responsetype[np.where((responsetype[:,0] == rat) & (responsetype[:,3] != 'unimodal'))][:,2]\n",
    "    \n",
    "    configpath = 'F:/'+rat+'/Parameters_'+date[r]+'.yml'\n",
    "    [foldername, inttype, intcat, presentationnum, videosync_start, videosync_stop, framerate, framestouse, intsync_start, intsync_stop] = func_format.openconfig(configpath)\n",
    "\n",
    "    inttimes = np.loadtxt('F:/InteractionPresentation_synctimes.csv', delimiter = ',', dtype = str)\n",
    "    inttimes = inttimes[np.where((inttimes[:,0] == rat) & (inttimes[:,1] == date[r]))]\n",
    "\n",
    "    neuronpath = 'F:/'+rat+'/Electrophys/'+date[r]+'/SpikeTimes/Neurons_BLA/'\n",
    "    #neuronlist = os.listdir('F:/'+rat+'/Electrophys/'+date[r]+'/SpikeTimes/Neurons_BLA/')\n",
    "\n",
    "\n",
    "    #startstopint = np.array(np.vstack((inttimes[:,7], intsync_stop)), np.float).T\n",
    "    startstopint = np.vstack((np.ravel(intsync_start), np.ravel(intsync_stop))).T\n",
    "    startstopbase = np.vstack((np.ravel(intsync_start)-300, np.ravel(intsync_start))).T\n",
    "    \n",
    "    intnumber = startstopint.shape[0]\n",
    "    neuronnumber = len(neuronlist)\n",
    "\n",
    "    ROCresults = np.zeros((intnumber, neuronnumber))\n",
    "\n",
    "    for n, neuron in enumerate(neuronlist):\n",
    "\n",
    "        spikes = np.ravel(np.array(np.load(neuronpath+neuron+'.npy')/1000, np.float))\n",
    "\n",
    "\n",
    "        for x, time in enumerate(startstopint):\n",
    "\n",
    "            intspikes = func_analysis.extractSpikes(spikes, startstopint[x][0], startstopint[x][1])\n",
    "            basespikes = func_analysis.extractSpikes(spikes, startstopbase[x][0], startstopbase[x][1])\n",
    "\n",
    "            intfr = func_analysis.firingrate(intspikes, 1, startstopint[x][0], startstopint[x][1], smooth = False)\n",
    "            basefr = func_analysis.firingrate(basespikes, 1, startstopbase[x][0], startstopbase[x][1], smooth=False)\n",
    "\n",
    "            ROCresults[x, n] = func_analysis.calcROC(intfr, basefr)[0]\n",
    "\n",
    "    ROCresults[np.isnan(ROCresults)] = 0.5\n",
    "\n",
    "    trialid = np.empty([len(foldername)], np.int)\n",
    "    labels = ['Male', 'Female', 'Object', 'Food']\n",
    "\n",
    "    for i, label in enumerate(labels):\n",
    "        trialid[np.where(np.ravel(intcat) == label)] = i+1\n",
    "\n",
    "    ### Train basic model with data from one rat\n",
    "    try:\n",
    "        lda = LinearDiscriminantAnalysis()\n",
    "        lda.fit(ROCresults, trialid)\n",
    "    except:\n",
    "        continue\n",
    "        \n",
    "    #### 5s moving intervals starting 150 seconds before interaction and ended 150s after, including 10s of data?\n",
    "    alltimes = [0,0]\n",
    "    timing = []\n",
    "    prediction = []\n",
    "    actualtrial = []\n",
    "    trialname = []\n",
    "    presentationnumber = []\n",
    "    for x, time in enumerate(startstopint):\n",
    "        startwindow = np.arange(time[0]-150, time[1]+150, 1)\n",
    "        endwindow = startwindow+10\n",
    "\n",
    "        times = np.vstack((startwindow, endwindow)).T\n",
    "\n",
    "        for t, window in enumerate(times):\n",
    "\n",
    "            auROCwindow = []\n",
    "\n",
    "            for n, neuron in enumerate(neuronlist):\n",
    "                spikes = np.ravel(np.array(np.load(neuronpath+neuron+'.npy')/1000, np.float))\n",
    "\n",
    "                windowspikes = func_analysis.extractSpikes(spikes, window[0], window[1]+.01)\n",
    "                windowfr = func_analysis.firingrate(windowspikes, 1, window[0], window[1]+.01, smooth=False)\n",
    "\n",
    "                basespikes = func_analysis.extractSpikes(spikes, startstopbase[x][0], startstopbase[x][1])\n",
    "                basefr = func_analysis.firingrate(basespikes, 1, startstopbase[x][0], startstopbase[x][1], smooth=False)\n",
    "\n",
    "                auROCwindow = np.append(auROCwindow, func_analysis.calcROC(windowfr, basefr)[0])\n",
    "\n",
    "            auROCwindow[np.isnan(auROCwindow)] = 0.5\n",
    "            prediction = np.append(prediction, lda.predict(auROCwindow.reshape(1,-1)))\n",
    "            actualtrial = np.append(actualtrial, trialid[x])\n",
    "            trialname = np.append(trialname, foldername[x])\n",
    "            presentationnumber = np.append(presentationnumber, presentationnum[x])\n",
    "\n",
    "            alltimes = np.vstack((alltimes, window))\n",
    "\n",
    "            if window[1] < startstopint[x][0]:\n",
    "                timing = np.append(timing, 'before')\n",
    "            elif (window[1] > startstopint[x][0]) & (window[1] < startstopint[x][1]):\n",
    "                timing = np.append(timing, 'during')\n",
    "            elif window[1] > startstopint[x][1]:\n",
    "                timing = np.append(timing, 'after')\n",
    "            else:\n",
    "                timing = np.append(timing, 'nan')\n",
    "\n",
    "    alltimes = alltimes[1:]\n",
    "    alldata = np.vstack((alltimes[:,0], alltimes[:,1], prediction, timing, actualtrial, trialname, presentationnumber)).T\n",
    "    \n",
    "    np.savetxt('F:/Figure3_New/LDAovertime/'+rat+'_LDAresults_persecond_excludingunimodal.csv', alldata, delimiter = ',', fmt = '%s')\n",
    "    print(rat+' completed')\n"
   ]
  },
  {
   "cell_type": "code",
   "execution_count": 304,
   "metadata": {},
   "outputs": [],
   "source": [
    "A6results = np.loadtxt('F:/Amygdala6_LDAresults_persecond.csv', delimiter = ',', dtype = str)\n",
    "A8results = np.loadtxt('F:/Amygdala8_LDAresults_persecond.csv', delimiter = ',', dtype = str)\n",
    "A10results = np.loadtxt('F:/Amygdala10_LDAresults_persecond.csv', delimiter = ',', dtype = str)\n",
    "A11results = np.loadtxt('F:/Amygdala11_LDAresults_persecond.csv', delimiter = ',', dtype = str)"
   ]
  },
  {
   "cell_type": "code",
   "execution_count": 356,
   "metadata": {},
   "outputs": [
    {
     "data": {
      "text/plain": [
       "array(['2_int1', '2_int1', '2_int1', ..., '15_int14', '15_int14',\n",
       "       '15_int14'], dtype='<U18')"
      ]
     },
     "execution_count": 356,
     "metadata": {},
     "output_type": "execute_result"
    }
   ],
   "source": [
    "Aresults[:,-2]"
   ]
  },
  {
   "cell_type": "code",
   "execution_count": 425,
   "metadata": {},
   "outputs": [
    {
     "name": "stderr",
     "output_type": "stream",
     "text": [
      "C:\\Users\\Cristina\\anaconda3\\lib\\site-packages\\numpy\\core\\fromnumeric.py:3372: RuntimeWarning: Mean of empty slice.\n",
      "  return _methods._mean(a, axis=axis, dtype=dtype,\n",
      "C:\\Users\\Cristina\\anaconda3\\lib\\site-packages\\numpy\\core\\_methods.py:170: RuntimeWarning: invalid value encountered in double_scalars\n",
      "  ret = ret.dtype.type(ret / rcount)\n",
      "C:\\Users\\Cristina\\anaconda3\\lib\\site-packages\\sklearn\\metrics\\_classification.py:1814: UserWarning: y_pred contains classes not in y_true\n",
      "  warnings.warn('y_pred contains classes not in y_true')\n"
     ]
    }
   ],
   "source": [
    "resultsall = np.zeros(6)\n",
    "allstartpredicted = np.zeros(120)\n",
    "allstoppredicted = np.zeros(220)\n",
    "allstartactual = np.zeros(120)\n",
    "allstopactual = np.zeros(220)\n",
    "\n",
    "resultsfiles = ['F:/Amygdala6_LDAresults_persecond_responsiveonly.csv',\n",
    "               'F:/Amygdala8_LDAresults_persecond_responsiveonly.csv',\n",
    "               'F:/Amygdala10_LDAresults_persecond_responsiveonly.csv',\n",
    "               'F:/Amygdala11_LDAresults_persecond_responsiveonly.csv']\n",
    "ratID = ['Amygdala6', 'Amygdala8', 'Amygdala10', 'Amygdala11']\n",
    "date = ['13042019', '01102019', '27062020', '06072020']\n",
    "\n",
    "for f, file in enumerate(resultsfiles):\n",
    "    \n",
    "    Aresults = np.loadtxt(file, delimiter = ',', dtype = str)\n",
    "\n",
    "\n",
    "    for i, inte in enumerate(np.unique(Aresults[:,-2])):\n",
    "        \n",
    "        intresults = Aresults[Aresults[:,-2] == inte]\n",
    "        \n",
    "        before = Aresults[np.where((Aresults[:,-2] == inte) & (Aresults[:,3] == 'before') & (Aresults[:,-1] == '2.0'))]\n",
    "        during = Aresults[np.where((Aresults[:,-2] == inte) & (Aresults[:,3] == 'during') & (Aresults[:,-1] == '2.0'))]\n",
    "        after = Aresults[np.where((Aresults[:,-2] == inte) & (Aresults[:,3] == 'after') & (Aresults[:,-1] == '2.0'))]\n",
    "\n",
    "        beforepredicted = np.array(before[:,2], float)\n",
    "        beforeactual = np.array(before[:,4], float)\n",
    "\n",
    "        duringpredicted = np.array(during[:,2], float)\n",
    "        duringactual = np.array(during[:,4], float)\n",
    "\n",
    "        afterpredicted = np.array(after[:,2], float)\n",
    "        afteractual = np.array(after[:,4], float)\n",
    "        \n",
    "        start = intresults[80:200]\n",
    "        stop = intresults[-220:]\n",
    "        \n",
    "        predictedstart = np.array(start[:,2], np.float)\n",
    "        actualstart = np.array(start[:,4], np.float)\n",
    "        \n",
    "        predictedstop = np.array(stop[:,2], np.float)\n",
    "        actualstop = np.array(stop[:,4], np.float)\n",
    "        \n",
    "        allstartpredicted = np.vstack((allstartpredicted, predictedstart))\n",
    "        allstartactual = np.vstack((allstartactual, actualstart))\n",
    "        \n",
    "        allstoppredicted = np.vstack((allstoppredicted, predictedstop))\n",
    "        allstopactual = np.vstack((allstopactual, actualstop))\n",
    "        \n",
    "        \n",
    "        \n",
    "        #TPbefore = np.count_nonzero(beforepredicted == beforeactual[0])/len(beforepredicted)\n",
    "        #TPduring = np.count_nonzero(duringpredicted == duringactual[0])/len(duringpredicted)\n",
    "        #TPafter = np.count_nonzero(afterpredicted == afteractual[0])/len(afterpredicted)\n",
    "        \n",
    "        results = np.hstack((inte, ratID[f], date[f], metrics.balanced_accuracy_score(beforeactual, beforepredicted), metrics.balanced_accuracy_score(duringactual, duringpredicted), metrics.balanced_accuracy_score(afteractual, afterpredicted)))\n",
    "\n",
    "        resultsall = np.vstack((resultsall, results))\n",
    "        #print(duringpredicted.shape)\n",
    "        \n",
    "        \n",
    "resultsall = resultsall[1:]\n",
    "allstartpredicted = allstartpredicted[1:]\n",
    "allstartactual = allstartactual[1:]\n",
    "allstoppredicted = allstoppredicted[1:]\n",
    "allstopactual = allstopactual[1:]\n",
    "\n",
    "    \n",
    "    \n",
    "    "
   ]
  },
  {
   "cell_type": "code",
   "execution_count": 428,
   "metadata": {},
   "outputs": [
    {
     "data": {
      "text/plain": [
       "array([['11_int4', 'Amygdala6', '13042019', 'nan', 'nan', 'nan'],\n",
       "       ['13_int5', 'Amygdala6', '13042019', 'nan', 'nan', 'nan'],\n",
       "       ['14_int6', 'Amygdala6', '13042019', 'nan', 'nan', 'nan'],\n",
       "       ['16_int7', 'Amygdala6', '13042019', 'nan', 'nan', 'nan'],\n",
       "       ['18_int8', 'Amygdala6', '13042019', 'nan', 'nan', 'nan'],\n",
       "       ['20_int9', 'Amygdala6', '13042019', '0.17857142857142858',\n",
       "        '0.9172413793103448', '0.575'],\n",
       "       ['22_int10', 'Amygdala6', '13042019', '0.2357142857142857',\n",
       "        '0.8537414965986394', '0.2625'],\n",
       "       ['24_int11', 'Amygdala6', '13042019', '0.2857142857142857',\n",
       "        '0.9719626168224299', '0.81875'],\n",
       "       ['26_int12', 'Amygdala6', '13042019', '0.1', '0.7703549060542797',\n",
       "        '0.075'],\n",
       "       ['28_int13', 'Amygdala6', '13042019', '0.4785714285714286',\n",
       "        '0.989041095890411', '0.925'],\n",
       "       ['2_int1', 'Amygdala6', '13042019', 'nan', 'nan', 'nan'],\n",
       "       ['30_int14', 'Amygdala6', '13042019', '0.5142857142857142',\n",
       "        '0.9693486590038314', '0.95625'],\n",
       "       ['32_int15', 'Amygdala6', '13042019', '0.38571428571428573',\n",
       "        '0.816793893129771', '0.48125'],\n",
       "       ['34_int16', 'Amygdala6', '13042019', '0.42857142857142855',\n",
       "        '0.6151419558359621', '0.44375'],\n",
       "       ['5_int2', 'Amygdala6', '13042019', 'nan', 'nan', 'nan'],\n",
       "       ['8_int3', 'Amygdala6', '13042019', 'nan', 'nan', 'nan'],\n",
       "       ['10_int10', 'Amygdala8', '01102019', '0.5642857142857143',\n",
       "        '0.675392670157068', '0.61875'],\n",
       "       ['11_int11', 'Amygdala8', '01102019', '0.2', '0.6460905349794238',\n",
       "        '0.49375'],\n",
       "       ['12_int12', 'Amygdala8', '01102019', '0.32857142857142857',\n",
       "        '0.5792079207920792', '0.71875'],\n",
       "       ['13_int13', 'Amygdala8', '01102019', '0.2357142857142857',\n",
       "        '0.7868217054263565', '0.8'],\n",
       "       ['14_int14', 'Amygdala8', '01102019', '0.14285714285714285',\n",
       "        '0.8465116279069768', '0.18125'],\n",
       "       ['15_int15', 'Amygdala8', '01102019', '0.35714285714285715',\n",
       "        '0.45222929936305734', '0.0875'],\n",
       "       ['16_int16', 'Amygdala8', '01102019', '0.5214285714285715',\n",
       "        '0.8137254901960784', '0.43125'],\n",
       "       ['1_int1', 'Amygdala8', '01102019', 'nan', 'nan', 'nan'],\n",
       "       ['2_int2', 'Amygdala8', '01102019', 'nan', 'nan', 'nan'],\n",
       "       ['3_int3', 'Amygdala8', '01102019', 'nan', 'nan', 'nan'],\n",
       "       ['4_int4', 'Amygdala8', '01102019', 'nan', 'nan', 'nan'],\n",
       "       ['5_int5', 'Amygdala8', '01102019', 'nan', 'nan', 'nan'],\n",
       "       ['6_int6', 'Amygdala8', '01102019', 'nan', 'nan', 'nan'],\n",
       "       ['7_int7', 'Amygdala8', '01102019', 'nan', 'nan', 'nan'],\n",
       "       ['9_int9', 'Amygdala8', '01102019', '0.07142857142857142',\n",
       "        '0.8641509433962264', '0.375'],\n",
       "       ['10_int9', 'Amygdala10', '27062020', '0.9214285714285714',\n",
       "        '0.9881422924901185', '0.8625'],\n",
       "       ['11_int10', 'Amygdala10', '27062020', '0.05',\n",
       "        '0.8846153846153846', '0.6875'],\n",
       "       ['12_int11', 'Amygdala10', '27062020', '0.14285714285714285',\n",
       "        '0.9655172413793104', '0.13125'],\n",
       "       ['13_int12', 'Amygdala10', '27062020', '0.95',\n",
       "        '0.8333333333333334', '0.875'],\n",
       "       ['14_int13', 'Amygdala10', '27062020', '0.7',\n",
       "        '0.9471698113207547', '0.9625'],\n",
       "       ['15_int14', 'Amygdala10', '27062020', '0.0', '0.725925925925926',\n",
       "        '0.00625'],\n",
       "       ['16_int15', 'Amygdala10', '27062020', '0.9857142857142858',\n",
       "        '0.8846153846153846', '0.79375'],\n",
       "       ['2_int1', 'Amygdala10', '27062020', 'nan', 'nan', 'nan'],\n",
       "       ['3_int2', 'Amygdala10', '27062020', 'nan', 'nan', 'nan'],\n",
       "       ['4_int3', 'Amygdala10', '27062020', 'nan', 'nan', 'nan'],\n",
       "       ['5_int4', 'Amygdala10', '27062020', 'nan', 'nan', 'nan'],\n",
       "       ['6_int5', 'Amygdala10', '27062020', 'nan', 'nan', 'nan'],\n",
       "       ['7_int6', 'Amygdala10', '27062020', 'nan', 'nan', 'nan'],\n",
       "       ['8_int7', 'Amygdala10', '27062020', 'nan', 'nan', 'nan'],\n",
       "       ['9_int8', 'Amygdala10', '27062020', 'nan', 'nan', 'nan'],\n",
       "       ['10_int9', 'Amygdala11', '06072020', '0.19285714285714287',\n",
       "        '1.0', '0.20625'],\n",
       "       ['11_int10', 'Amygdala11', '06072020', '0.5785714285714286',\n",
       "        '0.93359375', '0.5125'],\n",
       "       ['12_int11', 'Amygdala11', '06072020', '0.2785714285714286',\n",
       "        '0.24548736462093862', '0.56875'],\n",
       "       ['13_int12', 'Amygdala11', '06072020', '0.0',\n",
       "        '0.8091286307053942', '0.91875'],\n",
       "       ['14_int13', 'Amygdala11', '06072020', '0.39285714285714285',\n",
       "        '0.40522875816993464', '0.34375'],\n",
       "       ['15_int14', 'Amygdala11', '06072020', '0.6142857142857143',\n",
       "        '0.7275747508305648', '0.6'],\n",
       "       ['2_int1', 'Amygdala11', '06072020', 'nan', 'nan', 'nan'],\n",
       "       ['3_int2', 'Amygdala11', '06072020', 'nan', 'nan', 'nan'],\n",
       "       ['4_int3', 'Amygdala11', '06072020', 'nan', 'nan', 'nan'],\n",
       "       ['5_int4', 'Amygdala11', '06072020', 'nan', 'nan', 'nan'],\n",
       "       ['6_int5', 'Amygdala11', '06072020', 'nan', 'nan', 'nan'],\n",
       "       ['7_int6', 'Amygdala11', '06072020', 'nan', 'nan', 'nan'],\n",
       "       ['8_int7', 'Amygdala11', '06072020', 'nan', 'nan', 'nan'],\n",
       "       ['9_int8', 'Amygdala11', '06072020', '0.1', '0.49809885931558934',\n",
       "        '0.35']], dtype='<U32')"
      ]
     },
     "execution_count": 428,
     "metadata": {},
     "output_type": "execute_result"
    }
   ],
   "source": [
    "resultsall"
   ]
  },
  {
   "cell_type": "code",
   "execution_count": 426,
   "metadata": {},
   "outputs": [
    {
     "data": {
      "text/plain": [
       "array([['11_int4', 'Amygdala6', '13042019', 'nan', 'nan', 'nan'],\n",
       "       ['13_int5', 'Amygdala6', '13042019', 'nan', 'nan', 'nan'],\n",
       "       ['14_int6', 'Amygdala6', '13042019', 'nan', 'nan', 'nan'],\n",
       "       ['16_int7', 'Amygdala6', '13042019', 'nan', 'nan', 'nan'],\n",
       "       ['18_int8', 'Amygdala6', '13042019', 'nan', 'nan', 'nan'],\n",
       "       ['20_int9', 'Amygdala6', '13042019', '0.17857142857142858',\n",
       "        '0.9172413793103448', '0.575'],\n",
       "       ['22_int10', 'Amygdala6', '13042019', '0.2357142857142857',\n",
       "        '0.8537414965986394', '0.2625'],\n",
       "       ['24_int11', 'Amygdala6', '13042019', '0.2857142857142857',\n",
       "        '0.9719626168224299', '0.81875'],\n",
       "       ['26_int12', 'Amygdala6', '13042019', '0.1', '0.7703549060542797',\n",
       "        '0.075'],\n",
       "       ['28_int13', 'Amygdala6', '13042019', '0.4785714285714286',\n",
       "        '0.989041095890411', '0.925'],\n",
       "       ['2_int1', 'Amygdala6', '13042019', 'nan', 'nan', 'nan'],\n",
       "       ['30_int14', 'Amygdala6', '13042019', '0.5142857142857142',\n",
       "        '0.9693486590038314', '0.95625'],\n",
       "       ['32_int15', 'Amygdala6', '13042019', '0.38571428571428573',\n",
       "        '0.816793893129771', '0.48125'],\n",
       "       ['34_int16', 'Amygdala6', '13042019', '0.42857142857142855',\n",
       "        '0.6151419558359621', '0.44375'],\n",
       "       ['5_int2', 'Amygdala6', '13042019', 'nan', 'nan', 'nan'],\n",
       "       ['8_int3', 'Amygdala6', '13042019', 'nan', 'nan', 'nan'],\n",
       "       ['10_int10', 'Amygdala8', '01102019', '0.5642857142857143',\n",
       "        '0.675392670157068', '0.61875'],\n",
       "       ['11_int11', 'Amygdala8', '01102019', '0.2', '0.6460905349794238',\n",
       "        '0.49375'],\n",
       "       ['12_int12', 'Amygdala8', '01102019', '0.32857142857142857',\n",
       "        '0.5792079207920792', '0.71875'],\n",
       "       ['13_int13', 'Amygdala8', '01102019', '0.2357142857142857',\n",
       "        '0.7868217054263565', '0.8'],\n",
       "       ['14_int14', 'Amygdala8', '01102019', '0.14285714285714285',\n",
       "        '0.8465116279069768', '0.18125'],\n",
       "       ['15_int15', 'Amygdala8', '01102019', '0.35714285714285715',\n",
       "        '0.45222929936305734', '0.0875'],\n",
       "       ['16_int16', 'Amygdala8', '01102019', '0.5214285714285715',\n",
       "        '0.8137254901960784', '0.43125'],\n",
       "       ['1_int1', 'Amygdala8', '01102019', 'nan', 'nan', 'nan'],\n",
       "       ['2_int2', 'Amygdala8', '01102019', 'nan', 'nan', 'nan'],\n",
       "       ['3_int3', 'Amygdala8', '01102019', 'nan', 'nan', 'nan'],\n",
       "       ['4_int4', 'Amygdala8', '01102019', 'nan', 'nan', 'nan'],\n",
       "       ['5_int5', 'Amygdala8', '01102019', 'nan', 'nan', 'nan'],\n",
       "       ['6_int6', 'Amygdala8', '01102019', 'nan', 'nan', 'nan'],\n",
       "       ['7_int7', 'Amygdala8', '01102019', 'nan', 'nan', 'nan'],\n",
       "       ['9_int9', 'Amygdala8', '01102019', '0.07142857142857142',\n",
       "        '0.8641509433962264', '0.375'],\n",
       "       ['10_int9', 'Amygdala10', '27062020', '0.9214285714285714',\n",
       "        '0.9881422924901185', '0.8625'],\n",
       "       ['11_int10', 'Amygdala10', '27062020', '0.05',\n",
       "        '0.8846153846153846', '0.6875'],\n",
       "       ['12_int11', 'Amygdala10', '27062020', '0.14285714285714285',\n",
       "        '0.9655172413793104', '0.13125'],\n",
       "       ['13_int12', 'Amygdala10', '27062020', '0.95',\n",
       "        '0.8333333333333334', '0.875'],\n",
       "       ['14_int13', 'Amygdala10', '27062020', '0.7',\n",
       "        '0.9471698113207547', '0.9625'],\n",
       "       ['15_int14', 'Amygdala10', '27062020', '0.0', '0.725925925925926',\n",
       "        '0.00625'],\n",
       "       ['16_int15', 'Amygdala10', '27062020', '0.9857142857142858',\n",
       "        '0.8846153846153846', '0.79375'],\n",
       "       ['2_int1', 'Amygdala10', '27062020', 'nan', 'nan', 'nan'],\n",
       "       ['3_int2', 'Amygdala10', '27062020', 'nan', 'nan', 'nan'],\n",
       "       ['4_int3', 'Amygdala10', '27062020', 'nan', 'nan', 'nan'],\n",
       "       ['5_int4', 'Amygdala10', '27062020', 'nan', 'nan', 'nan'],\n",
       "       ['6_int5', 'Amygdala10', '27062020', 'nan', 'nan', 'nan'],\n",
       "       ['7_int6', 'Amygdala10', '27062020', 'nan', 'nan', 'nan'],\n",
       "       ['8_int7', 'Amygdala10', '27062020', 'nan', 'nan', 'nan'],\n",
       "       ['9_int8', 'Amygdala10', '27062020', 'nan', 'nan', 'nan'],\n",
       "       ['10_int9', 'Amygdala11', '06072020', '0.19285714285714287',\n",
       "        '1.0', '0.20625'],\n",
       "       ['11_int10', 'Amygdala11', '06072020', '0.5785714285714286',\n",
       "        '0.93359375', '0.5125'],\n",
       "       ['12_int11', 'Amygdala11', '06072020', '0.2785714285714286',\n",
       "        '0.24548736462093862', '0.56875'],\n",
       "       ['13_int12', 'Amygdala11', '06072020', '0.0',\n",
       "        '0.8091286307053942', '0.91875'],\n",
       "       ['14_int13', 'Amygdala11', '06072020', '0.39285714285714285',\n",
       "        '0.40522875816993464', '0.34375'],\n",
       "       ['15_int14', 'Amygdala11', '06072020', '0.6142857142857143',\n",
       "        '0.7275747508305648', '0.6'],\n",
       "       ['2_int1', 'Amygdala11', '06072020', 'nan', 'nan', 'nan'],\n",
       "       ['3_int2', 'Amygdala11', '06072020', 'nan', 'nan', 'nan'],\n",
       "       ['4_int3', 'Amygdala11', '06072020', 'nan', 'nan', 'nan'],\n",
       "       ['5_int4', 'Amygdala11', '06072020', 'nan', 'nan', 'nan'],\n",
       "       ['6_int5', 'Amygdala11', '06072020', 'nan', 'nan', 'nan'],\n",
       "       ['7_int6', 'Amygdala11', '06072020', 'nan', 'nan', 'nan'],\n",
       "       ['8_int7', 'Amygdala11', '06072020', 'nan', 'nan', 'nan'],\n",
       "       ['9_int8', 'Amygdala11', '06072020', '0.1', '0.49809885931558934',\n",
       "        '0.35']], dtype='<U32')"
      ]
     },
     "execution_count": 426,
     "metadata": {},
     "output_type": "execute_result"
    }
   ],
   "source": [
    "resultsall"
   ]
  },
  {
   "cell_type": "code",
   "execution_count": 419,
   "metadata": {},
   "outputs": [],
   "source": [
    "A6actualstart = allstartactual[resultsall[:,1] == 'Amygdala6'].T\n",
    "A6predictedstart = allstartpredicted[resultsall[:,1] == 'Amygdala6'].T\n",
    "\n",
    "A6actualstop = allstopactual[resultsall[:,1] == 'Amygdala6'].T\n",
    "A6predictedstop = allstoppredicted[resultsall[:,1] == 'Amygdala6'].T\n",
    "\n",
    "A8actualstart = allstartactual[resultsall[:,1] == 'Amygdala8'].T\n",
    "A8predictedstart = allstartpredicted[resultsall[:,1] == 'Amygdala8'].T\n",
    "\n",
    "A8actualstop = allstopactual[resultsall[:,1] == 'Amygdala8'].T\n",
    "A8predictedstop = allstoppredicted[resultsall[:,1] == 'Amygdala8'].T\n",
    "\n",
    "A10actualstart = allstartactual[resultsall[:,1] == 'Amygdala10'].T\n",
    "A10predictedstart = allstartpredicted[resultsall[:,1] == 'Amygdala10'].T\n",
    "\n",
    "A10actualstop = allstopactual[resultsall[:,1] == 'Amygdala10'].T\n",
    "A10predictedstop = allstoppredicted[resultsall[:,1] == 'Amygdala10'].T\n",
    "\n",
    "A11actualstart = allstartactual[resultsall[:,1] == 'Amygdala11'].T\n",
    "A11predictedstart = allstartpredicted[resultsall[:,1] == 'Amygdala11'].T\n",
    "\n",
    "A11actualstop = allstopactual[resultsall[:,1] == 'Amygdala11'].T\n",
    "A11predictedstop = allstoppredicted[resultsall[:,1] == 'Amygdala11'].T\n"
   ]
  },
  {
   "cell_type": "code",
   "execution_count": 420,
   "metadata": {},
   "outputs": [],
   "source": [
    "A6balancedaccuracystart = []\n",
    "A6balancedaccuracystop = []\n",
    "for x, row in enumerate(A6actualstart):\n",
    "    \n",
    "    A6balancedaccuracystart = np.append(A6balancedaccuracystart, metrics.balanced_accuracy_score(row, A6predictedstart[x]))\n",
    "    \n",
    "for x, row in enumerate(A6actualstop):\n",
    "    \n",
    "    A6balancedaccuracystop = np.append(A6balancedaccuracystop, metrics.balanced_accuracy_score(row, A6predictedstop[x]))\n",
    "    \n",
    "A8balancedaccuracystart = []\n",
    "A8balancedaccuracystop = []\n",
    "for x, row in enumerate(A8actualstart):\n",
    "    A8balancedaccuracystart = np.append(A8balancedaccuracystart, metrics.balanced_accuracy_score(row, A8predictedstart[x]))\n",
    "for x, row in enumerate(A8actualstop):\n",
    "    A8balancedaccuracystop = np.append(A8balancedaccuracystop, metrics.balanced_accuracy_score(row, A8predictedstop[x]))\n",
    "    \n",
    "A10balancedaccuracystart = []\n",
    "A10balancedaccuracystop = []\n",
    "for x, row in enumerate(A10actualstart):\n",
    "    A10balancedaccuracystart = np.append(A10balancedaccuracystart, metrics.balanced_accuracy_score(row, A10predictedstart[x]))\n",
    "for x, row in enumerate(A10actualstop):\n",
    "    A10balancedaccuracystop = np.append(A10balancedaccuracystop, metrics.balanced_accuracy_score(row, A10predictedstop[x]))\n",
    "    \n",
    "A11balancedaccuracystart = []\n",
    "A11balancedaccuracystop = []\n",
    "for x, row in enumerate(A11actualstart):\n",
    "    A11balancedaccuracystart = np.append(A11balancedaccuracystart, metrics.balanced_accuracy_score(row, A11predictedstart[x]))\n",
    "for x, row in enumerate(A11actualstop):\n",
    "    A11balancedaccuracystop = np.append(A11balancedaccuracystop, metrics.balanced_accuracy_score(row, A11predictedstop[x]))"
   ]
  },
  {
   "cell_type": "code",
   "execution_count": 421,
   "metadata": {},
   "outputs": [
    {
     "data": {
      "text/plain": [
       "<matplotlib.collections.LineCollection at 0x159f32dbdc0>"
      ]
     },
     "execution_count": 421,
     "metadata": {},
     "output_type": "execute_result"
    },
    {
     "data": {
      "image/png": "[encoded data removed]",
      "text/plain": [
       "<Figure size 432x288 with 1 Axes>"
      ]
     },
     "metadata": {},
     "output_type": "display_data"
    }
   ],
   "source": [
    "plt.plot(A6balancedaccuracystop, color = 'cornflowerblue')\n",
    "plt.plot(A8balancedaccuracystop, color = 'magenta')\n",
    "plt.plot(A10balancedaccuracystop, color = 'green')\n",
    "plt.plot(A11balancedaccuracystop, color = 'grey')\n",
    "\n",
    "plt.ylim(0,1)\n",
    "\n",
    "plt.hlines(0.25, 0, 44)"
   ]
  },
  {
   "cell_type": "code",
   "execution_count": 416,
   "metadata": {},
   "outputs": [
    {
     "data": {
      "text/plain": [
       "<matplotlib.collections.LineCollection at 0x159f312e910>"
      ]
     },
     "execution_count": 416,
     "metadata": {},
     "output_type": "execute_result"
    },
    {
     "data": {
      "image/png": "[encoded data removed]",
      "text/plain": [
       "<Figure size 432x288 with 1 Axes>"
      ]
     },
     "metadata": {},
     "output_type": "display_data"
    }
   ],
   "source": [
    "plt.plot(A6balancedaccuracystart, color = 'cornflowerblue')\n",
    "plt.plot(A8balancedaccuracystart, color = 'magenta')\n",
    "plt.plot(A10balancedaccuracystart, color = 'green')\n",
    "plt.plot(A11balancedaccuracystart, color = 'grey')\n",
    "plt.ylim(0,1.1)\n",
    "plt.hlines(0.25, 0, 24)"
   ]
  },
  {
   "cell_type": "code",
   "execution_count": 423,
   "metadata": {},
   "outputs": [
    {
     "data": {
      "text/plain": [
       "{'whiskers': [<matplotlib.lines.Line2D at 0x159ef3f5850>,\n",
       "  <matplotlib.lines.Line2D at 0x159ef3f5bb0>,\n",
       "  <matplotlib.lines.Line2D at 0x159ef303040>,\n",
       "  <matplotlib.lines.Line2D at 0x159ef303370>,\n",
       "  <matplotlib.lines.Line2D at 0x159f184e6d0>,\n",
       "  <matplotlib.lines.Line2D at 0x159f184ea00>],\n",
       " 'caps': [<matplotlib.lines.Line2D at 0x159ef3f5f10>,\n",
       "  <matplotlib.lines.Line2D at 0x159ef2dc2b0>,\n",
       "  <matplotlib.lines.Line2D at 0x159ef3036a0>,\n",
       "  <matplotlib.lines.Line2D at 0x159ef3039d0>,\n",
       "  <matplotlib.lines.Line2D at 0x159f184ed30>,\n",
       "  <matplotlib.lines.Line2D at 0x159f10c70a0>],\n",
       " 'boxes': [<matplotlib.lines.Line2D at 0x159ef3f54f0>,\n",
       "  <matplotlib.lines.Line2D at 0x159ef2dccd0>,\n",
       "  <matplotlib.lines.Line2D at 0x159f184e3a0>],\n",
       " 'medians': [<matplotlib.lines.Line2D at 0x159ef2dc610>,\n",
       "  <matplotlib.lines.Line2D at 0x159ef303d00>,\n",
       "  <matplotlib.lines.Line2D at 0x159f10c73d0>],\n",
       " 'fliers': [<matplotlib.lines.Line2D at 0x159ef2dc970>,\n",
       "  <matplotlib.lines.Line2D at 0x159f184e070>,\n",
       "  <matplotlib.lines.Line2D at 0x159f10c7700>],\n",
       " 'means': []}"
      ]
     },
     "execution_count": 423,
     "metadata": {},
     "output_type": "execute_result"
    },
    {
     "data": {
      "image/png": "[encoded data removed]",
      "text/plain": [
       "<Figure size 432x288 with 1 Axes>"
      ]
     },
     "metadata": {},
     "output_type": "display_data"
    }
   ],
   "source": [
    "plt.boxplot((np.array(resultsall[:,-3], float), np.array(resultsall[:,-2], float), np.array(resultsall[:,-1], float)))\n",
    "#plt.scatter(np.ones(len(during)), during)\n",
    "#plt.scatter(np.full(len(after), 2), after)"
   ]
  },
  {
   "cell_type": "code",
   "execution_count": 208,
   "metadata": {},
   "outputs": [
    {
     "data": {
      "text/plain": [
       "<BarContainer object of 3 artists>"
      ]
     },
     "execution_count": 208,
     "metadata": {},
     "output_type": "execute_result"
    },
    {
     "data": {
      "image/png": "[encoded data removed]",
      "text/plain": [
       "<Figure size 216x216 with 1 Axes>"
      ]
     },
     "metadata": {},
     "output_type": "display_data"
    }
   ],
   "source": [
    "fig, ax = plt.subplots(1, figsize = (3, 3))\n",
    "\n",
    "ax.bar((0,1,2), (np.mean(beforescore), np.mean(duringscore), np.mean(afterscore)), yerr = (stats.sem(beforescore), stats.sem(duringscore), stats.sem(afterscore)))\n",
    "\n",
    "\n"
   ]
  },
  {
   "cell_type": "code",
   "execution_count": 147,
   "metadata": {},
   "outputs": [],
   "source": [
    "test = A6results[np.where((A6results[:,-1] == '2_int1') & (A6results[:,3] == 'before'))]"
   ]
  },
  {
   "cell_type": "code",
   "execution_count": 155,
   "metadata": {},
   "outputs": [],
   "source": [
    "predicted = np.array(test[:,2], float)\n",
    "actual = np.array(test[:,4], float)"
   ]
  },
  {
   "cell_type": "code",
   "execution_count": 160,
   "metadata": {},
   "outputs": [
    {
     "name": "stderr",
     "output_type": "stream",
     "text": [
      "C:\\Users\\Cristina\\anaconda3\\lib\\site-packages\\sklearn\\metrics\\_classification.py:1814: UserWarning: y_pred contains classes not in y_true\n",
      "  warnings.warn('y_pred contains classes not in y_true')\n"
     ]
    },
    {
     "data": {
      "text/plain": [
       "0.03571428571428571"
      ]
     },
     "execution_count": 160,
     "metadata": {},
     "output_type": "execute_result"
    }
   ],
   "source": [
    "metrics.balanced_accuracy_score(actual, predicted)"
   ]
  },
  {
   "cell_type": "code",
   "execution_count": 157,
   "metadata": {},
   "outputs": [
    {
     "data": {
      "text/plain": [
       "array([1., 1., 1., 1., 1., 1., 1., 1., 1., 1., 1., 1., 1., 1., 1., 1., 1.,\n",
       "       1., 1., 1., 1., 1., 1., 1., 1., 1., 1., 1.])"
      ]
     },
     "execution_count": 157,
     "metadata": {},
     "output_type": "execute_result"
    }
   ],
   "source": [
    "actual"
   ]
  },
  {
   "cell_type": "code",
   "execution_count": 62,
   "metadata": {},
   "outputs": [],
   "source": [
    "intnumber = startstopint.shape[0]\n",
    "neuronnumber = len(neuronlist)\n",
    "\n",
    "ROCresults = np.zeros((intnumber, neuronnumber))\n",
    "\n",
    "for n, neuron in enumerate(neuronlist):\n",
    "    \n",
    "    spikes = np.ravel(np.array(np.load(neuronpath+neuron)/1000, np.float))\n",
    "    \n",
    "    \n",
    "    for x, time in enumerate(startstopint):\n",
    "        \n",
    "        intspikes = func_analysis.extractSpikes(spikes, startstopint[x][0], startstopint[x][1])\n",
    "        basespikes = func_analysis.extractSpikes(spikes, startstopbase[x][0], startstopbase[x][1])\n",
    "        \n",
    "        intfr = func_analysis.firingrate(intspikes, 1, startstopint[x][0], startstopint[x][1], smooth = False)\n",
    "        basefr = func_analysis.firingrate(basespikes, 1, startstopbase[x][0], startstopbase[x][1], smooth=False)\n",
    "        \n",
    "        ROCresults[x, n] = func_analysis.calcROC(intfr, basefr)[0]\n",
    "        \n",
    "\n",
    "        \n",
    "ROCresults[np.isnan(ROCresults)] = 0.5\n",
    "\n",
    "trialid = np.empty([len(foldername)], np.int)\n",
    "labels = ['Male', 'Female', 'Object', 'Food']\n",
    "\n",
    "for i, label in enumerate(labels):\n",
    "    trialid[np.where(np.ravel(intcat) == label)] = i+1\n",
    "\n",
    "### Train basic model with data from one rat\n",
    "lda = LinearDiscriminantAnalysis()\n",
    "lda.fit(ROCresults, trialid)\n"
   ]
  },
  {
   "cell_type": "code",
   "execution_count": 106,
   "metadata": {},
   "outputs": [],
   "source": [
    "#### 5s moving intervals starting 150 seconds before interaction and ended 150s after, including 10s of data?\n",
    "alltimes = [0,0]\n",
    "timing = []\n",
    "prediction = []\n",
    "actualtrial = []\n",
    "for x, time in enumerate(startstopint):\n",
    "    startwindow = np.arange(time[0]-150, time[1]+150, 5)\n",
    "    endwindow = startwindow+10\n",
    "    \n",
    "    times = np.vstack((startwindow, endwindow)).T\n",
    "    \n",
    "    for t, window in enumerate(times):\n",
    "        \n",
    "        auROCwindow = []\n",
    "        \n",
    "        for n, neuron in enumerate(neuronlist):\n",
    "            spikes = np.ravel(np.array(np.load(neuronpath+neuron)/1000, np.float))\n",
    "            \n",
    "            windowspikes = func_analysis.extractSpikes(spikes, window[0], window[1]+.01)\n",
    "            windowfr = func_analysis.firingrate(windowspikes, 1, window[0], window[1]+.01, smooth=False)\n",
    "        \n",
    "            basespikes = func_analysis.extractSpikes(spikes, startstopbase[x][0], startstopbase[x][1])\n",
    "            basefr = func_analysis.firingrate(basespikes, 1, startstopbase[x][0], startstopbase[x][1], smooth=False)\n",
    "            \n",
    "            auROCwindow = np.append(auROCwindow, func_analysis.calcROC(windowfr, basefr)[0])\n",
    "        \n",
    "        auROCwindow[np.isnan(auROCwindow)] = 0.5\n",
    "        prediction = np.append(prediction, lda.predict(auROCwindow.reshape(1,-1)))\n",
    "        actualtrial = np.append(actualtrial, trialid[x])\n",
    "        \n",
    "        alltimes = np.vstack((alltimes, window))\n",
    "        \n",
    "        if window[1] < startstopint[x][0]:\n",
    "            timing = np.append(timing, 'before')\n",
    "        elif (window[1] > startstopint[x][0]) & (window[1] < startstopint[x][1]):\n",
    "            timing = np.append(timing, 'during')\n",
    "        elif window[1] > startstopint[x][1]:\n",
    "            timing = np.append(timing, 'after')\n",
    "        else:\n",
    "            timing = np.append(timing, 'nan')\n",
    "        \n",
    "alltimes = alltimes[1:]\n",
    "alldata = np.vstack((alltimes[:,0], alltimes[:,1], prediction, timing, actualtrial[x])).T"
   ]
  },
  {
   "cell_type": "code",
   "execution_count": 121,
   "metadata": {},
   "outputs": [
    {
     "data": {
      "text/plain": [
       "array(['nan', 'nan', 'nan', 'nan', 'nan', 'nan', 'nan', 'nan', 'nan',\n",
       "       'nan', 'nan', 'nan', 'nan', 'nan', 'nan', 'nan'], dtype='<U32')"
      ]
     },
     "execution_count": 121,
     "metadata": {},
     "output_type": "execute_result"
    }
   ],
   "source": [
    "timing[timing == 'nan']"
   ]
  },
  {
   "cell_type": "code",
   "execution_count": null,
   "metadata": {},
   "outputs": [],
   "source": []
  }
 ],
 "metadata": {
  "kernelspec": {
   "display_name": "Python 3",
   "language": "python",
   "name": "python3"
  },
  "language_info": {
   "codemirror_mode": {
    "name": "ipython",
    "version": 3
   },
   "file_extension": ".py",
   "mimetype": "text/x-python",
   "name": "python",
   "nbconvert_exporter": "python",
   "pygments_lexer": "ipython3",
   "version": "3.8.5"
  }
 },
 "nbformat": 4,
 "nbformat_minor": 4
}
