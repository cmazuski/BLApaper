{
 "cells": [
  {
   "cell_type": "code",
   "execution_count": 1,
   "metadata": {},
   "outputs": [
    {
     "name": "stdout",
     "output_type": "stream",
     "text": [
      "importing Jupyter notebook from func_analysis.ipynb\n",
      "importing Jupyter notebook from func_format.ipynb\n"
     ]
    }
   ],
   "source": [
    "import numpy as np\n",
    "import matplotlib.pyplot as plt\n",
    "from scipy import io\n",
    "from scipy import stats\n",
    "import scipy as sp\n",
    "import os\n",
    "\n",
    "import import_ipynb\n",
    "import func_analysis\n",
    "import func_format\n",
    "\n",
    "import statsmodels.api as sm\n",
    "import math\n",
    "from scipy.spatial.distance import pdist\n",
    "from scipy.spatial.distance import squareform\n",
    "from scipy.stats import norm\n",
    "from scipy.spatial.distance import cdist\n",
    "from sklearn.model_selection import StratifiedKFold\n",
    "from sklearn.model_selection import KFold\n",
    "from sklearn.discriminant_analysis import LinearDiscriminantAnalysis\n",
    "from sklearn.metrics import confusion_matrix, classification_report\n",
    "from sklearn import metrics\n",
    "\n",
    "import seaborn as sns\n",
    "\n",
    "import warnings\n",
    "warnings.filterwarnings('ignore')"
   ]
  },
  {
   "cell_type": "code",
   "execution_count": 2,
   "metadata": {},
   "outputs": [],
   "source": [
    "ratID = ['Amygdala6', 'Amygdala8', 'Amygdala10', 'Amygdala11']\n",
    "date = ['13042019', '01102019', '27062020', '06072020']\n",
    "\n",
    "LDAcorrect = []\n",
    "LDArandomcorrect = []\n",
    "\n",
    "#savepath = 'F:/BLAClustering_baseall/'\n",
    "drive = 'F:/'\n",
    "#func_format.foldercheck(savepath)\n",
    "output = ['RatID', 'Date', 'Folder', 'Category', 'LDA Accuracy', 'Shuffle-LDA']\n",
    "responsetype = np.loadtxt('F:/ResponseType/ResponseType_BLA/responseprofile.csv', delimiter = ',', dtype = str)\n",
    "\n",
    "for r, rat in enumerate(ratID):\n",
    "    neuronpath = drive+rat+'/Electrophys/'+date[r]+'/SpikeTimes/Neurons_BLA/'\n",
    "    responsetype_perrat = responsetype[responsetype[:,0] == rat]\n",
    "    \n",
    "    try:\n",
    "        neurondir = os.listdir(neuronpath)\n",
    "    except:\n",
    "        continue\n",
    "        \n",
    "    configpath = drive+rat+'/Parameters_'+date[r]+'.yml'\n",
    "    [foldername, inttype, intcat, presentationnum, videosync_start, videosync_stop, framerate, framestouse, intsync_start, intsync_stop] = func_format.openconfig(configpath)\n",
    "    \n",
    "    for f, folder in enumerate(foldername):\n",
    "        behavior = np.load(drive+rat+'/TrackingData/AutoBehavior_06112020/'+date[r]+'/'+folder+'_bouttimes.npz')\n",
    "        sync = np.loadtxt(drive+rat+'/Electrophys/'+date[r]+'/Sync/'+folder+'_frameSync.csv', delimiter = ',', dtype = np.float32)\n",
    "        \n",
    "        newbins = np.arange(intsync_start[f], intsync_stop[f]+.6, .5)\n",
    "        basestart = intsync_start[f]-300\n",
    "        basestop = intsync_start[f]\n",
    "        \n",
    "        try:\n",
    "            social = behavior['social']\n",
    "        except:\n",
    "            try:\n",
    "                social = np.vstack((behavior['rice1'], behavior['rice2']))\n",
    "            except:\n",
    "                social = np.vstack((behavior['rice1']))\n",
    "        \n",
    "        sociallabels = np.zeros(newbins.shape[0])\n",
    "        for i, row in enumerate(social):\n",
    "            start = np.argmin(np.abs(newbins - row[0]))\n",
    "            stop = np.argmin(np.abs(newbins - row[1]))\n",
    "            sociallabels[start:stop] = 1\n",
    "            \n",
    "        spikearray = np.zeros((len(newbins), len(os.listdir(neuronpath))))\n",
    "        spikearray_zscore = np.zeros((len(newbins), len(os.listdir(neuronpath))))\n",
    "        \n",
    "        start = newbins[0]\n",
    "        stop = newbins[-1]+.6\n",
    "        \n",
    "        for n, neuron in enumerate(neurondir):\n",
    "            if neuron[-4:] != '.npy':\n",
    "                continue\n",
    "            neu = np.load(neuronpath+neuron)/1000\n",
    "            spikes = func_analysis.extractSpikes(neu, start, stop)\n",
    "            fr = func_analysis.firingrate(spikes, 0.5, start, stop, smooth=False)\n",
    "            \n",
    "            basespikes = func_analysis.extractSpikes(neu, basestart, basestop)\n",
    "            basefr = func_analysis.firingrate(basespikes, 0.5, basestart, basestop, smooth=False)\n",
    "            zfr = (fr - np.mean(basefr)/np.std(basefr))\n",
    "            spikearray_zscore[:,n] = zfr\n",
    "            \n",
    "            spikearray[:,n] = fr\n",
    "            \n",
    "            \n",
    "        spikesum = np.nansum(spikearray, axis = 0)\n",
    "        rmv_lowspikes = np.where(spikesum < 50)\n",
    "        spikearray = np.delete(spikearray, rmv_lowspikes, 1)\n",
    "        spikearray_zscore = np.delete(spikearray_zscore, rmv_lowspikes, 1)\n",
    "        try:\n",
    "            nanremoval = np.unique(np.where(np.isnan(spikearray_zscore))[1])\n",
    "            spikearray_zscore = np.delete(spikearray_zscore, nanremoval, 1)\n",
    "        except:\n",
    "            b = 1\n",
    "        X = spikearray_zscore ### change this to spikearray to switch between zscored and not zscored\n",
    "        y = sociallabels\n",
    "                \n",
    "        #bins_before = 1\n",
    "        #bins_after = 1\n",
    "        #bins_current = 1\n",
    "        \n",
    "        #N = bins_before+bins_current+bins_after\n",
    "        #neuronnum = X.shape[1]\n",
    "        #X_binned = np.empty([X.shape[0]-N+1, neuronnum])\n",
    "        \n",
    "        #for i in range(neuronnum):\n",
    "            #X_binned[:,i] = N*np.convolve(X[:,i], np.ones((N,))/N, mode = 'valid')\n",
    "        #X_binned = X_binned.astype(int)\n",
    "        #y = y[bins_before:-bins_after]\n",
    "        \n",
    "        X_binned = X ### change this to bring back binning of data\n",
    "        n_folds = 5\n",
    "        cv = KFold()\n",
    "        ypred_LDA = np.zeros(y.shape)\n",
    "        ypred_SVC = np.zeros(y.shape)\n",
    "        ypredrandom_LDA = np.copy(ypred_LDA)\n",
    "        ypredrandom_SVC = np.copy(ypred_SVC)\n",
    "        \n",
    "        randomy = np.random.permutation(y)\n",
    "        \n",
    "        for i, (train_ind, test_ind) in enumerate(cv.split(X_binned, y)):\n",
    "    \n",
    "            Xtrain = X_binned[train_ind]\n",
    "            Xtest = X_binned[test_ind]\n",
    "            ytrain = y[train_ind]\n",
    "            ytrain_random = randomy[train_ind]\n",
    "\n",
    "            ## Linear Discriminant Analysis\n",
    "            lda = LinearDiscriminantAnalysis()\n",
    "            lda.fit(Xtrain, ytrain)\n",
    "            ypred_LDA[test_ind] = lda.predict(Xtest)\n",
    "\n",
    "            ### randomized values\n",
    "            lda_random = LinearDiscriminantAnalysis()\n",
    "            lda_random.fit(Xtrain, ytrain_random)\n",
    "            ypredrandom_LDA[test_ind] = lda_random.predict(Xtest)\n",
    "\n",
    "        LDAcorrect = np.append(LDAcorrect, metrics.roc_auc_score(y, ypred_LDA))\n",
    "        LDArandomcorrect = np.append(LDArandomcorrect, metrics.roc_auc_score(randomy, ypredrandom_LDA))\n",
    "        \n",
    "        save = np.hstack((rat, date[r], folder, intcat[f], metrics.roc_auc_score(y, ypred_LDA), metrics.roc_auc_score(randomy, ypredrandom_LDA)))\n",
    "        \n",
    "        output = np.vstack((output, save))\n",
    "        \n",
    "#np.savetxt(savepath+'PerTrialResults.csv', output, delimiter = ',', fmt = '%s')"
   ]
  },
  {
   "cell_type": "code",
   "execution_count": 4,
   "metadata": {},
   "outputs": [
    {
     "data": {
      "image/png": "[encoded data removed]",
      "text/plain": [
       "<Figure size 180x216 with 1 Axes>"
      ]
     },
     "metadata": {},
     "output_type": "display_data"
    }
   ],
   "source": [
    "fig, ax = plt.subplots(1, figsize = (2.5,3))\n",
    "\n",
    "ax.bar((0,1), (np.mean(LDArandomcorrect), np.mean(LDAcorrect)), color = ('gray', 'blue'), edgecolor = ('gray', 'blue'), lw = 1.5, yerr = (stats.sem(LDArandomcorrect), stats.sem(LDAcorrect)))\n",
    "#ax.scatter(np.ones(len(LDAcorrect)), LDAcorrect, color = 'black', s = 10, zorder = 6)\n",
    "#ax.scatter(np.zeros(len(LDArandomcorrect)), LDArandomcorrect, color = 'black', s = 10, zorder = 6)\n",
    "ax.set_xticks((0,1))\n",
    "ax.set_xticklabels(('Shuffled \\nLabels', 'Intra-Trial \\n Engagement'), fontsize = 8)\n",
    "ax.set_ylabel('auROC Value')\n",
    "ax.set_ylim(.4, .8)\n",
    "ax.set_yticks((.4, .5, .6, .7, .8))\n",
    "ax.set_xlim(-.5, 1.5)\n",
    "ax.set_facecolor('white')\n",
    "ax.spines['left'].set_color('k')\n",
    "ax.spines['bottom'].set_color('k')\n",
    "plt.grid(False)\n",
    "plt.tight_layout()\n",
    "plt.rcParams['svg.fonttype'] = 'none'\n",
    "#plt.savefig(savepath+'F5_engagementwithstimulus_allneurons.png', dpi = 300)\n",
    "#plt.savefig(savepath+'LDAdecoding_socialvsnonsocial_allneurons.svg', format = 'svg', dpi = 500, transparent = True)\n",
    "#plt.savefig(savepath+'LDAdecoding_socialvsnonsocial_allneurons.png', dpi = 300)"
   ]
  },
  {
   "cell_type": "code",
   "execution_count": 4,
   "metadata": {},
   "outputs": [
    {
     "data": {
      "image/png": "[encoded data removed]",
      "text/plain": [
       "<Figure size 288x216 with 1 Axes>"
      ]
     },
     "metadata": {},
     "output_type": "display_data"
    }
   ],
   "source": [
    "male = np.array(output[output[:,3] == 'Male'][:,-2], float)\n",
    "female = np.array(output[output[:,3] == 'Female'][:,-2], float)\n",
    "obj = np.array(output[output[:,3] == 'Object'][:,-2], float)\n",
    "food = np.array(output[output[:,3] == 'Food'][:,-2], float)\n",
    "\n",
    "fig, ax = plt.subplots(1, figsize = (4,3))\n",
    "\n",
    "ax.bar((0,1,2,3,4), (np.mean(LDArandomcorrect), np.mean(male), np.mean(female), np.mean(obj), np.mean(food)), color = ('gray', 'dodgerblue', 'firebrick', 'darkviolet', 'darkorange'), edgecolor = ('gray', 'dodgerblue', 'firebrick', 'darkviolet', 'darkorange'), yerr = (stats.sem(LDArandomcorrect), stats.sem(male), stats.sem(female), stats.sem(obj), stats.sem(food)))\n",
    "\n",
    "ax.set_ylabel('auROC Value')\n",
    "ax.set_xticks((0,1,2,3,4))\n",
    "ax.set_xticklabels(('Shuffled \\nLabels', 'Male', 'Female', 'Object', 'Food'))\n",
    "ax.set_xlim(-.7, 4.7)\n",
    "ax.set_ylim(.4, .8)\n",
    "ax.set_yticks((.4, .5, .6, .7, .8))\n",
    "ax.grid(False)\n",
    "ax.set_facecolor('white')\n",
    "ax.spines['left'].set_color('k')\n",
    "ax.spines['bottom'].set_color('k')\n",
    "plt.rcParams['svg.fonttype'] = 'none'\n",
    "#plt.savefig(savepath+'F5_engagementperstimulus_allneurons.png', dpi = 300)\n",
    "plt.savefig('F:/Figure4/LDAdecoding_socialvsnonsocial_allneurons_permodality.svg', format = 'svg', dpi = 500, transparent = True)\n",
    "#plt.savefig(savepath+'LDAdecoding_socialvsnonsocial_perinttype.png', dpi = 300)"
   ]
  },
  {
   "cell_type": "code",
   "execution_count": 10,
   "metadata": {},
   "outputs": [
    {
     "name": "stdout",
     "output_type": "stream",
     "text": [
      "0.5691620624888609\n",
      "0.6341814438188083\n",
      "0.5694447694143522\n",
      "0.5737425553694397\n",
      "0.7067952823556979\n",
      "0.7791895382628351\n",
      "0.4893678068020174\n",
      "0.5653389143937348\n"
     ]
    }
   ],
   "source": [
    "for i, ii in enumerate(output[output[:,3] == 'Food'][:,-2]):\n",
    "    print(ii)"
   ]
  },
  {
   "cell_type": "code",
   "execution_count": null,
   "metadata": {},
   "outputs": [
    {
     "name": "stdout",
     "output_type": "stream",
     "text": [
      "Amygdala6 Male completed\n",
      "Amygdala6 Object completed\n",
      "Amygdala6 Male completed\n",
      "Amygdala6 Food completed\n"
     ]
    }
   ],
   "source": [
    "def engagement_LDA_5fold(X_binned, y):\n",
    "    n_folds = 5\n",
    "    cv = KFold()\n",
    "    \n",
    "    ypred_LDA = np.zeros(y.shape)\n",
    "    \n",
    "    for i, (train_ind, test_ind) in enumerate(cv.split(X_binned, y)):\n",
    "        \n",
    "        Xtrain = X_binned[train_ind]\n",
    "        Xtest = X_binned[test_ind]\n",
    "        ytrain = y[train_ind]\n",
    "        \n",
    "        lda = LinearDiscriminantAnalysis()\n",
    "        lda.fit(Xtrain, ytrain)\n",
    "        ypred_LDA[test_ind] = lda.predict(Xtest)\n",
    "        \n",
    "    return(ypred_LDA)\n",
    "        \n",
    "ratID = ['Amygdala6', 'Amygdala8', 'Amygdala10', 'Amygdala11']\n",
    "date = ['13042019', '01102019', '27062020', '06072020']\n",
    "drive = 'F:/'\n",
    "\n",
    "\n",
    "#responsetype = np.loadtxt('D:/Summary/NeuronResponseType/neuronresponsetype.csv', delimiter = ',', dtype = str)\n",
    "#category = 'noresponse'\n",
    "\n",
    "#savepath = 'F:/Decode_socialbehavior/'\n",
    "#func_format.foldercheck(savepath)\n",
    "#output = ['RatID', 'Date', 'Folder', 'Category', 'LDA 2neurons', 'LDA 5neurons', 'LDA 10neurons', 'LDA 20neurons']\n",
    "output = np.zeros(32)\n",
    "\n",
    "\n",
    "for r, rat in enumerate(ratID):\n",
    "    neuronpath = drive+rat+'/Electrophys/'+date[r]+'/SpikeTimes/Neurons_BLA/'\n",
    "    \n",
    "    try:\n",
    "        neurondir = os.listdir(neuronpath)\n",
    "    except:\n",
    "        continue\n",
    "        \n",
    "    #responsetypeday = responsetype[responsetype[:,1] == date[r]]\n",
    "    configpath = drive+rat+'/Parameters_'+date[r]+'.yml'\n",
    "    [foldername, inttype, intcat, presentationnum, videosync_start, videosync_stop, framerate, framestouse, intsync_start, intsync_stop] = func_format.openconfig(configpath)\n",
    "    \n",
    "    for f, folder in enumerate(foldername):\n",
    "        behavior = np.load(drive+rat+'/TrackingData/AutoBehavior_06112020/'+date[r]+'/'+folder+'_bouttimes.npz')\n",
    "        sync = np.loadtxt(drive+rat+'/Electrophys/'+date[r]+'/Sync/'+folder+'_frameSync.csv', delimiter = ',', dtype = np.float32)\n",
    "        \n",
    "        newbins = np.arange(intsync_start[f], intsync_stop[f]+.6, .5)\n",
    "        \n",
    "        try:\n",
    "            social = behavior['social']\n",
    "        except:\n",
    "            try:\n",
    "                social = np.vstack((behavior['rice1'], behavior['rice2']))\n",
    "            except:\n",
    "                social = np.vstack((behavior['rice1']))\n",
    "        \n",
    "        sociallabels = np.zeros(newbins.shape[0])\n",
    "        for i, row in enumerate(social):\n",
    "            start = np.argmin(np.abs(newbins - row[0]))\n",
    "            stop = np.argmin(np.abs(newbins - row[1]))\n",
    "            sociallabels[start:stop] = 1\n",
    "        \n",
    "        #responselist = responsetypeday[responsetypeday[:,-1] == category]\n",
    "        \n",
    "        \n",
    "        spikearray = np.zeros((len(newbins), len(os.listdir(neuronpath))))\n",
    "        \n",
    "        start = newbins[0]\n",
    "        stop = newbins[-1]+.6\n",
    "        \n",
    "        \n",
    "        \n",
    "        for n, neuron in enumerate(neurondir):\n",
    "            if neuron[-4:] != '.npy':\n",
    "                continue\n",
    "            neu = np.load(neuronpath+neuron)/1000\n",
    "            spikes = func_analysis.extractSpikes(neu, start, stop)\n",
    "            fr = func_analysis.firingrate(spikes, 0.5, start, stop, smooth=False)\n",
    "            spikearray[:,n] = fr\n",
    "            \n",
    "        spikesum = np.nansum(spikearray, axis = 0)\n",
    "        rmv_lowspikes = np.where(spikesum < 50)\n",
    "        spikearray = np.delete(spikearray, rmv_lowspikes, 1)\n",
    "        X = spikearray\n",
    "        y = sociallabels\n",
    "        \n",
    "        bins_before = 1\n",
    "        bins_after = 1\n",
    "        bins_current = 1\n",
    "        \n",
    "        N = bins_before+bins_current+bins_after\n",
    "        neuronnum = X.shape[1]\n",
    "        X_binned = np.empty([X.shape[0]-N+1, neuronnum])\n",
    "        \n",
    "        neuronlist_indices = np.arange(neuronnum)\n",
    "        for i in range(neuronnum):\n",
    "            X_binned[:,i] = N*np.convolve(X[:,i], np.ones((N,))/N, mode = 'valid')\n",
    "            \n",
    "        X_binned = X_binned.astype(int)\n",
    "        y = y[bins_before:-bins_after]\n",
    "        \n",
    "        increasingneuronnum = np.arange(2,neuronnum)\n",
    "        \n",
    "        allaverage = np.zeros(len(np.arange(2,neuronnum)))\n",
    "        for j, number in enumerate(increasingneuronnum):\n",
    "            \n",
    "            choices = np.random.choice(neuronlist_indices, replace = True, size = (500, number))\n",
    "            LDAcorrectxneurons = []\n",
    "            for x, selection in enumerate(choices):\n",
    "                selected_X = X_binned[:, selection]\n",
    "                ypred_LDA = engagement_LDA_5fold(selected_X, y)\n",
    "                \n",
    "                LDAcorrectxneurons = np.append(LDAcorrectxneurons, metrics.roc_auc_score(y, ypred_LDA))\n",
    "                \n",
    "            averageLDAxneurons = np.mean(LDAcorrectxneurons)\n",
    "            \n",
    "            allaverage[j] = averageLDAxneurons\n",
    "            \n",
    "        save = np.hstack((rat, date[r], folder, intcat[f], allaverage))\n",
    "        np.savetxt('F:/Figure4_S10_LDAengagement/'+rat+'_'+folder+'.csv', save, delimiter = ',', fmt = '%s')\n",
    "        print(rat+' '+intcat[f]+' completed')\n",
    "        \n",
    "        #output = np.vstack((output, save))\n",
    "            \n",
    "       \n",
    "        \n",
    "#np.savetxt(savepath+'PerTrialResults_differentneuronnumber.csv', output, delimiter = ',', fmt = '%s')"
   ]
  },
  {
   "cell_type": "code",
   "execution_count": 7,
   "metadata": {},
   "outputs": [],
   "source": [
    "np.savetxt('F:/F5_S_increasingneuronnumberresults.csv', output, delimiter = ',', fmt = '%s')"
   ]
  },
  {
   "cell_type": "code",
   "execution_count": 5,
   "metadata": {},
   "outputs": [
    {
     "data": {
      "text/plain": [
       "array([[46, 21, 24, ..., 16, 28, 24],\n",
       "       [43, 25, 31, ..., 27, 12, 13],\n",
       "       [36, 40, 37, ..., 18, 38, 46],\n",
       "       ...,\n",
       "       [23, 26, 29, ..., 10,  4, 36],\n",
       "       [23, 41, 32, ...,  1, 21, 26],\n",
       "       [ 1, 23, 40, ..., 12, 16, 39]])"
      ]
     },
     "execution_count": 5,
     "metadata": {},
     "output_type": "execute_result"
    }
   ],
   "source": [
    "choices"
   ]
  },
  {
   "cell_type": "code",
   "execution_count": 28,
   "metadata": {},
   "outputs": [],
   "source": [
    "originalvalues = np.loadtxt('F:/Figure4/Decode_socialbehavior/PerTrialResults.csv', delimiter = ',', dtype = str)"
   ]
  },
  {
   "cell_type": "code",
   "execution_count": 29,
   "metadata": {},
   "outputs": [],
   "source": [
    "shuffledneurons = np.array(originalvalues[1:,5], float)\n",
    "neurons2 = np.array(output[1:,4], float)\n",
    "neurons5 = np.array(output[1:,5], float)\n",
    "neurons10 = np.array(output[1:, 6], float)\n",
    "neurons20 = np.array(output[1:,7], float)\n",
    "allneurons = np.array(originalvalues[1:,4], float)"
   ]
  },
  {
   "cell_type": "code",
   "execution_count": 31,
   "metadata": {},
   "outputs": [
    {
     "data": {
      "image/png": "[encoded data removed]",
      "text/plain": [
       "<Figure size 180x216 with 1 Axes>"
      ]
     },
     "metadata": {},
     "output_type": "display_data"
    }
   ],
   "source": [
    "fig, ax = plt.subplots(1, figsize = (2.5,3))\n",
    "\n",
    "ax.bar((0,1,2,3), \n",
    "       (np.mean(neurons2), np.mean(neurons5), np.mean(neurons10), np.mean(neurons20)), color = ('green'), yerr = (stats.sem(neurons2), stats.sem(neurons5), stats.sem(neurons10), stats.sem(neurons20)))\n",
    "\n",
    "\n",
    "#ax.scatter(np.zeros(len(neurons2)), neurons2, color = 'black', s = 10, zorder = 6)\n",
    "#ax.scatter(np.full(len(neurons5), 1), neurons5, color = 'black', s = 10, zorder = 6)\n",
    "#ax.scatter(np.full(len(neurons10), 2), neurons10, color = 'black', s = 10, zorder = 6)\n",
    "#ax.scatter(np.full(len(neurons20), 3), neurons20, color = 'black', s = 10, zorder = 6)\n",
    "\n",
    "ax.set_ylabel('auROC Value')\n",
    "ax.set_xticks((0,1,2,3))\n",
    "ax.set_xticklabels(('2 neurons', '5 neurons', '10 neurons', '20 neurons'), rotation = 90)\n",
    "ax.set_xlim(-.7, 3.7)\n",
    "ax.set_ylim(.4, .8)\n",
    "ax.set_yticks((.4, .5, .6, .7, .8))\n",
    "ax.grid(False)\n",
    "\n",
    "ax.plot((-.7, 3.7), (.5, .5), color = 'k', linestyle = '--', lw = 1)\n",
    "ax.spines['left'].set_color('k')\n",
    "ax.spines['bottom'].set_color('k')\n",
    "ax.set_facecolor('white')\n",
    "\n",
    "plt.tight_layout()\n",
    "plt.rcParams['svg.fonttype'] = 'none'\n",
    "plt.savefig(savepath+'LDAdecoding_socialvsnonsocial_allneurons_differentneuronnum.svg', format = 'svg', dpi = 500, transparent = True)\n",
    "#plt.savefig('F:/Figure4/Decode_socialbehavior/increasing_neuronnumber.png', dpi = 300)\n",
    "#plt.savefig(savepath+'LDAdecoding_socialvsnonsocial_perinttype.png', dpi = 300)"
   ]
  },
  {
   "cell_type": "code",
   "execution_count": 32,
   "metadata": {},
   "outputs": [
    {
     "data": {
      "text/plain": [
       "'F:/Decode_socialbehavior/'"
      ]
     },
     "execution_count": 32,
     "metadata": {},
     "output_type": "execute_result"
    }
   ],
   "source": [
    "savepath"
   ]
  },
  {
   "cell_type": "code",
   "execution_count": 107,
   "metadata": {},
   "outputs": [],
   "source": [
    "responsetype = np.loadtxt('D:/Summary/NeuronResponseType/neuronresponsetype.csv', delimiter = ',', dtype = str)"
   ]
  },
  {
   "cell_type": "code",
   "execution_count": 112,
   "metadata": {},
   "outputs": [],
   "source": [
    "responsetype = responsetype[responsetype[:,1] == date[r]]"
   ]
  },
  {
   "cell_type": "code",
   "execution_count": 138,
   "metadata": {},
   "outputs": [],
   "source": [
    "ratID = ['Amygdala6', 'Amygdala6', 'Amygdala8', 'Amygdala8', 'Amygdala8']\n",
    "date = ['13042019', '14042019', '01102019', '02102019', '03102019']\n"
   ]
  },
  {
   "cell_type": "code",
   "execution_count": 177,
   "metadata": {},
   "outputs": [
    {
     "name": "stdout",
     "output_type": "stream",
     "text": [
      "nonsocial\n",
      "nonsocial\n",
      "nonsocial\n",
      "nonsocial\n",
      "nonsocial\n",
      "nonsocial\n",
      "nonsocial\n",
      "nonsocial\n",
      "nonsocial\n",
      "nonsocial\n",
      "nonsocial\n",
      "nonsocial\n",
      "nonsocial\n",
      "nonsocial\n",
      "nonsocial\n",
      "nonsocial\n",
      "nonsocial\n",
      "nonsocial\n"
     ]
    }
   ],
   "source": [
    "LDAcorrect = []\n",
    "LDArandomcorrect = []\n",
    "SVCcorrect = []\n",
    "SVCrandomcorrect = []\n",
    "\n",
    "output = ['RatID', 'Date', 'Folder', 'Category', 'LDA Accuracy', 'Shuffle-LDA', 'SVC Accuracy', 'Shuffle_SVC']\n",
    "responsetype = np.loadtxt('D:/Summary/NeuronResponseType/neuronresponsetype.csv', delimiter = ',', dtype = str)\n",
    "category = 'noresponse'\n",
    "\n",
    "\n",
    "for r, rat in enumerate(ratID):\n",
    "    configpath = 'D:/'+rat+'/Parameters_'+date[r]+'.yml'\n",
    "    [foldername, inttype, intcat, presentationnum, videosync_start, videosync_stop, framerate, framestouse, intsync_start, intsync_stop] = func_format.openconfig(configpath)\n",
    "    \n",
    "    responsetypeday = responsetype[responsetype[:,1] == date[r]]\n",
    "    \n",
    "    for f, folder in enumerate(foldername):\n",
    "        behavior = np.load('D:/'+rat+'/TrackingData/Behavior_analyzed/'+date[r]+'/'+folder+'_bouttimes.npz')\n",
    "        sync = np.loadtxt('D:/'+rat+'/Electrophys/'+date[r]+'/Sync/'+folder+'_frameSync.csv', delimiter = ',', dtype = np.float32)\n",
    "        \n",
    "        newbins = np.arange(intsync_start[f], intsync_stop[f]+.6, .5)\n",
    "        \n",
    "        try:\n",
    "            social = behavior['social']\n",
    "        except:\n",
    "            print('nonsocial')\n",
    "            #print(rat, date[r], folder, intcat[f])\n",
    "            continue\n",
    "        \n",
    "        sociallabels = np.zeros(newbins.shape[0])\n",
    "        for i, row in enumerate(social):\n",
    "            start = np.argmin(np.abs(newbins - row[0]))\n",
    "            stop = np.argmin(np.abs(newbins - row[1]))\n",
    "            sociallabels[start:stop] = 1\n",
    "            \n",
    "        neuronpath = 'D:/'+rat+'/Electrophys/'+date[r]+'/SpikeTimes/Neurons_rename/'\n",
    "        responselist = responsetypeday[responsetypeday[:,-1] == category]\n",
    "        spikearray = np.zeros((len(newbins), len(responselist)))\n",
    "        \n",
    "        start = newbins[0]\n",
    "        stop = newbins[-1]+.6\n",
    "        index = 0\n",
    "        \n",
    "        for n, neuron in enumerate(os.listdir(neuronpath)):\n",
    "            response = responsetypeday[responsetypeday[:,2] == neuron[:-4]][-1][-1]\n",
    "            if response != category:\n",
    "                continue\n",
    "            \n",
    "            #print(response)\n",
    "            neu = np.load(neuronpath+neuron)/1000\n",
    "            spikes = func_analysis.extractSpikes(neu, start, stop)\n",
    "            fr = func_analysis.firingrate(spikes, 0.5, start, stop, smooth=False)\n",
    "            spikearray[:,index] = fr\n",
    "            index = index+1\n",
    "            \n",
    "        #spikesum = np.nansum(spikearray, axis = 0)\n",
    "        #rmv_lowspikes = np.where(spikesum < 50)\n",
    "        #spikearray = np.delete(spikearray, rmv_lowspikes, 1)\n",
    "        X = spikearray\n",
    "        y = sociallabels\n",
    "        \n",
    "        bins_before = 1\n",
    "        bins_after = 1\n",
    "        bins_current = 1\n",
    "        \n",
    "        N = bins_before+bins_current+bins_after\n",
    "        neuronnum = X.shape[1]\n",
    "        X_binned = np.empty([X.shape[0]-N+1, neuronnum])\n",
    "        \n",
    "        for i in range(neuronnum):\n",
    "            X_binned[:,i] = N*np.convolve(X[:,i], np.ones((N,))/N, mode = 'valid')\n",
    "        X_binned = X_binned.astype(int)\n",
    "        y = y[bins_before:-bins_after]\n",
    "        \n",
    "        n_folds = 5\n",
    "        cv = KFold()\n",
    "        ypred_LDA = np.zeros(y.shape)\n",
    "        ypred_SVC = np.zeros(y.shape)\n",
    "        ypredrandom_LDA = np.copy(ypred_LDA)\n",
    "        ypredrandom_SVC = np.copy(ypred_SVC)\n",
    "        \n",
    "        randomy = np.random.permutation(y)\n",
    "        \n",
    "        for i, (train_ind, test_ind) in enumerate(cv.split(X_binned, y)):\n",
    "    \n",
    "            Xtrain = X_binned[train_ind]\n",
    "            Xtest = X_binned[test_ind]\n",
    "            ytrain = y[train_ind]\n",
    "            ytrain_random = randomy[train_ind]\n",
    "\n",
    "            ## Linear Discriminant Analysis\n",
    "            lda = LinearDiscriminantAnalysis()\n",
    "            lda.fit(Xtrain, ytrain)\n",
    "            ypred_LDA[test_ind] = lda.predict(Xtest)\n",
    "\n",
    "            ##SVC\n",
    "            svc = SVC()\n",
    "            svc.fit(Xtrain, ytrain)\n",
    "            ypred_SVC[test_ind] = svc.predict(Xtest)\n",
    "\n",
    "            ### randomized values\n",
    "            lda_random = LinearDiscriminantAnalysis()\n",
    "            lda_random.fit(Xtrain, ytrain_random)\n",
    "            ypredrandom_LDA[test_ind] = lda_random.predict(Xtest)\n",
    "\n",
    "            svc_random = SVC()\n",
    "            svc_random.fit(Xtrain, ytrain_random)\n",
    "            ypredrandom_SVC[test_ind] = svc_random.predict(Xtest)\n",
    "\n",
    "        LDAcorrect = np.append(LDAcorrect, metrics.balanced_accuracy_score(y, ypred_LDA))\n",
    "        LDArandomcorrect = np.append(LDArandomcorrect, metrics.balanced_accuracy_score(randomy, ypredrandom_LDA))\n",
    "        \n",
    "        SVCcorrect = np.append(SVCcorrect, metrics.balanced_accuracy_score(y, ypred_SVC))\n",
    "        SVCrandomcorrect = np.append(SVCrandomcorrect, metrics.balanced_accuracy_score(randomy, ypredrandom_SVC))\n",
    "        \n",
    "        save = np.hstack((rat, date[r], folder, intcat[f], metrics.balanced_accuracy_score(y, ypred_LDA), metrics.balanced_accuracy_score(randomy, ypredrandom_LDA), metrics.balanced_accuracy_score(y, ypred_SVC), metrics.balanced_accuracy_score(randomy, ypredrandom_SVC)))\n",
    "        \n",
    "        output = np.vstack((output, save))"
   ]
  },
  {
   "cell_type": "code",
   "execution_count": 178,
   "metadata": {},
   "outputs": [
    {
     "data": {
      "image/png": "[encoded data removed]",
      "text/plain": [
       "<Figure size 288x216 with 1 Axes>"
      ]
     },
     "metadata": {
      "needs_background": "light"
     },
     "output_type": "display_data"
    }
   ],
   "source": [
    "fig, ax = plt.subplots(1, figsize = (4,3))\n",
    "\n",
    "ax.bar((0,1), (np.mean(LDAcorrect), np.mean(LDArandomcorrect)), edgecolor = 'black', facecolor = 'none')\n",
    "ax.scatter(np.zeros(len(LDAcorrect)), LDAcorrect, color = 'blue', zorder = 6)\n",
    "ax.scatter(np.ones(len(LDArandomcorrect)), LDArandomcorrect, color = 'black', zorder = 6)\n",
    "ax.set_xticks((0,1))\n",
    "ax.set_xticklabels(('Intra-Trial \\n Social Behavior', 'Shuffled \\nLabels'))\n",
    "ax.set_ylabel('Balanced Mean Accuracy')\n",
    "ax.set_ylim(.4, 1)\n",
    "plt.grid(False)\n",
    "plt.tight_layout()\n",
    "plt.title('NoResponse Only')\n",
    "\n",
    "plt.savefig(savepath+'LDAdecoding_socialnonsocial_noresponse.png', dpi = 300)\n"
   ]
  },
  {
   "cell_type": "code",
   "execution_count": 179,
   "metadata": {},
   "outputs": [],
   "source": [
    "np.savetxt(savepath+'PerTrialResults_noresponseonly.csv', output, delimiter = ',', fmt = '%s')"
   ]
  },
  {
   "cell_type": "code",
   "execution_count": 188,
   "metadata": {},
   "outputs": [],
   "source": [
    "multimodal = np.loadtxt(savepath+'PerTrialResults_multimodalonly.csv', delimiter = ',', dtype = str)\n",
    "LDAmultimodal = np.array(multimodal[1:,4], np.float32)\n",
    "unimodal = np.loadtxt(savepath+'PerTrialResults_unimodalonly.csv', delimiter = ',', dtype = str)\n",
    "LDAunimodal = np.array(unimodal[1:,4], np.float32)\n",
    "inconsistent = np.loadtxt(savepath+'PerTrialResults_inconsistentonly.csv', delimiter = ',', dtype = str)\n",
    "LDAinconsistent = np.array(inconsistent[1:,4], np.float32)\n",
    "noresponse = np.loadtxt(savepath+'PerTrialResults_noresponseonly.csv', delimiter = ',', dtype = str)\n",
    "LDAnoresponse = np.array(noresponse[1:,4], np.float32)\n",
    "allneurons = np.loadtxt(savepath+'PerTrialResults.csv', delimiter = ',', dtype = str)\n",
    "LDAall = np.array(allneurons[1:,4], np.float32)"
   ]
  },
  {
   "cell_type": "code",
   "execution_count": 196,
   "metadata": {},
   "outputs": [
    {
     "data": {
      "image/png": "[encoded data removed]",
      "text/plain": [
       "<Figure size 288x288 with 1 Axes>"
      ]
     },
     "metadata": {
      "needs_background": "light"
     },
     "output_type": "display_data"
    }
   ],
   "source": [
    "fig, ax = plt.subplots(1, figsize = (4,4))\n",
    "\n",
    "ax.bar((0,1,2,3,4), (np.mean(LDAall), np.mean(LDAmultimodal), np.mean(LDAunimodal), np.mean(LDAinconsistent), np.mean(LDAnoresponse)), edgecolor = 'black', facecolor = 'none')\n",
    "ax.scatter(np.zeros(len(LDAall)), LDAall, color = 'blue', zorder = 6)\n",
    "ax.scatter(np.ones(len(LDAmultimodal)), LDAmultimodal, color = 'black', zorder = 6)\n",
    "ax.scatter(np.full(len(LDAunimodal),2), LDAunimodal, color = 'black', zorder = 6)\n",
    "ax.scatter(np.full(len(LDAinconsistent), 3), LDAinconsistent, color = 'black', zorder = 6)\n",
    "ax.scatter(np.full(len(LDAnoresponse), 4), LDAnoresponse, color = 'black', zorder = 6)\n",
    "ax.set_xticks((0,1,2,3,4))\n",
    "ax.set_xticklabels(('All Neurons', 'Multimodal', 'Unimodal', 'Inconsistent', 'Noresponse'), rotation = 90)\n",
    "ax.set_ylabel('Balanced Mean Accuracy')\n",
    "ax.set_ylim(.2, 1)\n",
    "plt.grid(False)\n",
    "plt.title('NeuronType_Summary')\n",
    "plt.tight_layout()\n",
    "\n",
    "plt.savefig(savepath+'LDAdecoding_socialvsnonsocial_neurongroupcomparison.png', dpi = 300)\n"
   ]
  },
  {
   "cell_type": "code",
   "execution_count": null,
   "metadata": {},
   "outputs": [],
   "source": []
  }
 ],
 "metadata": {
  "kernelspec": {
   "display_name": "Python 3",
   "language": "python",
   "name": "python3"
  },
  "language_info": {
   "codemirror_mode": {
    "name": "ipython",
    "version": 3
   },
   "file_extension": ".py",
   "mimetype": "text/x-python",
   "name": "python",
   "nbconvert_exporter": "python",
   "pygments_lexer": "ipython3",
   "version": "3.8.5"
  }
 },
 "nbformat": 4,
 "nbformat_minor": 4
}
