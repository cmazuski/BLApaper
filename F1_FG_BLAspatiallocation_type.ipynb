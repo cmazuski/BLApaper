{
 "cells": [
  {
   "cell_type": "code",
   "execution_count": 1,
   "metadata": {},
   "outputs": [],
   "source": [
    "import numpy as np\n",
    "import os\n",
    "import matplotlib.pyplot as plt\n",
    "from matplotlib import style\n",
    "style.use('ggplot')\n",
    "\n",
    "from astropy.convolution import convolve, Gaussian1DKernel\n",
    "from scipy.optimize import curve_fit\n",
    "from scipy import stats\n",
    "from astropy.modeling import models, fitting\n",
    "from scipy import spatial"
   ]
  },
  {
   "cell_type": "code",
   "execution_count": 2,
   "metadata": {},
   "outputs": [],
   "source": [
    "def probeloc(neuronlist, neuropix_coords):\n",
    "    probelocation = ['coords']*len(neuropix_coords[0])\n",
    "    for n, neuron in enumerate(neuronlist):\n",
    "        \n",
    "        probelocation = np.vstack((probelocation, neuropix_coords[np.int(neuron[:-1])]))\n",
    "    \n",
    "    return(probelocation)"
   ]
  },
  {
   "cell_type": "code",
   "execution_count": 3,
   "metadata": {},
   "outputs": [],
   "source": [
    "neuropix_xcoords = [43, 11, 59, 27]*96\n",
    "neuropix_ycoords = np.sort(np.hstack(([np.arange(20, 3841, 20)]*2)))\n",
    "neuropix_coords = np.transpose(np.vstack((neuropix_xcoords, neuropix_ycoords)))"
   ]
  },
  {
   "cell_type": "code",
   "execution_count": 4,
   "metadata": {},
   "outputs": [],
   "source": [
    "neuronlist = np.loadtxt('F:/ResponseType/ResponseType_BLA_median/responseprofile.csv', delimiter = ',', dtype = str)\n",
    "ratID = np.array(['Amygdala3', 'Amygdala6', 'Amygdala8', 'Amygdala10', 'Amygdala11'])\n",
    "aplocationtip = np.array([-3300, -3300, -3140, -2300, -2800])\n",
    "mllocationtip = np.array([-5200, -4500, -5850, -5100, -5500])\n",
    "dvlocationtip = np.array([-9700, -9900, -8650, -9200, -9100])\n",
    "mllocationbank0end = np.array([-5000, -4400, -5000, -5000, -5100])\n"
   ]
  },
  {
   "cell_type": "code",
   "execution_count": 5,
   "metadata": {},
   "outputs": [],
   "source": [
    "coords = np.zeros(3)\n",
    "for i, neu in enumerate(neuronlist[:,2]):\n",
    "    index = np.where(ratID == neuronlist[i][0])[0][0]\n",
    "    location = neuropix_coords[np.int(neu[:-1])]\n",
    "    \n",
    "    ### adjusted for tilt of probe\n",
    "    mlcoords = np.sort(np.hstack((np.linspace(mllocationtip[index], mllocationbank0end[index], 192), np.linspace(mllocationtip[index], mllocationbank0end[index], 192))))\n",
    "    \n",
    "    \n",
    "    ap = aplocationtip[index]+location[0]\n",
    "    ml = mlcoords[np.int(neu[:-1])]\n",
    "    dv = dvlocationtip[index]+100+location[1]\n",
    "    \n",
    "    coords = np.vstack((coords, (ap, ml, dv)))\n",
    "    \n",
    "coords = coords[1:]\n",
    "    \n",
    "    "
   ]
  },
  {
   "cell_type": "code",
   "execution_count": 6,
   "metadata": {},
   "outputs": [
    {
     "name": "stderr",
     "output_type": "stream",
     "text": [
      "C:\\ProgramData\\Anaconda3\\lib\\site-packages\\numpy\\lib\\histograms.py:908: RuntimeWarning: invalid value encountered in true_divide\n",
      "  return n/db/n.sum(), bin_edges\n"
     ]
    }
   ],
   "source": [
    "location = np.hstack((neuronlist, coords))\n",
    "aplocation = np.abs(np.array((location[:,-3]), np.float))\n",
    "dvlocation = np.abs(np.array((location[:,-1]), np.float))\n",
    "\n",
    "femaleap = aplocation[location[:,4] == 'female']\n",
    "femaledv = dvlocation[location[:,4] == 'female']\n",
    "\n",
    "maleap = aplocation[location[:,4] == 'male']\n",
    "maledv = dvlocation[location[:,4] == 'male']\n",
    "\n",
    "objectap = aplocation[location[:,4] == 'object']\n",
    "objectdv = dvlocation[location[:,4] == 'object']\n",
    "\n",
    "foodap = aplocation[location[:,4] == 'food']\n",
    "fooddv = dvlocation[location[:,4] == 'food']\n",
    "\n",
    "panresponsiveap = aplocation[location[:,4] == 'panresponsive']\n",
    "panresponsivedv = dvlocation[location[:,4] == 'panresponsive']\n",
    "\n",
    "maledvhist = np.histogram(maledv, bins = np.arange(7500, 10250, 250), density = True)[0]\n",
    "femaledvhist = np.histogram(femaledv, bins = np.arange(7500, 10250, 250), density = True)[0]\n",
    "objdvhist = np.histogram(objectdv, bins = np.arange(7500, 10250, 250), density = True)[0]\n",
    "fooddvhist = np.histogram(fooddv, bins = np.arange(7500, 10250, 250), density = True)[0]\n",
    "\n",
    "histbins = np.histogram(maledv, bins = np.arange(7500, 10250, 250), density = True)[1]\n",
    "\n",
    "maleaphist = np.histogram(maleap, bins = np.arange(-4, -1.75, 0.25), density = True)[0]\n",
    "femaleaphist = np.histogram(femaleap, bins = np.arange(-4, -1.75, 0.25), density = True)[0]\n",
    "objaphist = np.histogram(objectap, bins = np.arange(-4, -1.75, 0.25), density = True)[0]\n",
    "foodaphist = np.histogram(foodap, bins = np.arange(-4, -1.75, 0.25), density = True)[0]\n",
    "\n",
    "histbins2 = np.histogram(maleap, bins = np.arange(-4, -1.75, 0.25), density = True)[1]\n",
    "\n",
    "panaphist = np.histogram(panresponsiveap, bins = np.arange(-4, -1.75, 0.25), density = True)[0]\n",
    "pandvhist = np.histogram(panresponsivedv, bins = np.arange(7500, 10250, 250), density = True)[0]"
   ]
  },
  {
   "cell_type": "code",
   "execution_count": 7,
   "metadata": {},
   "outputs": [
    {
     "data": {
      "image/png": "[encoded data removed]",
      "text/plain": [
       "<Figure size 216x288 with 6 Axes>"
      ]
     },
     "metadata": {},
     "output_type": "display_data"
    }
   ],
   "source": [
    "plt.close()\n",
    "\n",
    "fig, ax = plt.subplots(6, figsize = (3, 4), sharex = True)\n",
    "\n",
    "\n",
    "ax[0].hist(maledv, bins = np.arange(7500, 10250, 100), color = 'dodgerblue', alpha = 0.6)\n",
    "malex = np.arange(7500, 10250, 100)[:-1]\n",
    "maley = np.histogram(maledv, bins = np.arange(7500, 10250, 100))[0]\n",
    "g_male = models.Gaussian1D(amplitude=np.max(maley), mean = np.mean(maledv), stddev = np.std(maledv))\n",
    "fit_male = fitting.LevMarLSQFitter()\n",
    "g_male = fit_male(g_male, malex, maley)\n",
    "ax[0].plot(malex, g_male(malex), color = 'dodgerblue')\n",
    "\n",
    "ax[0].grid(False)\n",
    "ax[1].hist(femaledv, bins = np.arange(7500, 10250, 100), color = 'firebrick', alpha = 0.6)\n",
    "femalex = np.arange(7500, 10250, 100)[:-1]\n",
    "femaley = np.histogram(femaledv, bins = np.arange(7500, 10250, 100))[0]\n",
    "g_female=models.Gaussian1D(amplitude=np.max(femaley), mean = np.mean(femaledv), stddev = np.std(femaledv))\n",
    "fit_female = fitting.LevMarLSQFitter()\n",
    "g_female = fit_female(g_female, femalex, femaley)\n",
    "ax[1].plot(femalex, g_female(femalex), color = 'firebrick')\n",
    "ax[1].grid(False)\n",
    "\n",
    "\n",
    "ax[2].hist(objectdv, bins = np.arange(7500, 10250, 100), color = 'darkviolet', alpha = 0.6)\n",
    "ax[2].grid(False)\n",
    "objx = np.arange(7500, 10250, 100)[:-1]\n",
    "objy = np.histogram(objectdv, bins = np.arange(7500, 10250, 100))[0]\n",
    "g_obj = models.Gaussian1D(amplitude=np.max(objy), mean=np.mean(objectdv), stddev = np.std(objectdv))\n",
    "fit_obj = fitting.LevMarLSQFitter()\n",
    "g_obj = fit_obj(g_obj, objx, objy)\n",
    "c = ax[2].plot(objx, g_obj(objx), color = 'darkviolet')\n",
    "\n",
    "ax[3].hist(fooddv, bins = np.arange(7500, 10250, 100), color = 'darkorange', alpha = 0.6)\n",
    "foodx = np.arange(7500, 10250, 100)[:-1]\n",
    "foody = np.histogram(fooddv, bins = np.arange(7500, 10250, 100))[0]\n",
    "g_food = models.Gaussian1D(amplitude=np.max(foody), mean = np.mean(fooddv), stddev = np.std(fooddv))\n",
    "fit_food = fitting.LevMarLSQFitter()\n",
    "g_food = fit_food(g_food, foodx, foody)\n",
    "d = ax[3].plot(foodx, g_food(foodx), color = 'darkorange')\n",
    "ax[3].grid(False)\n",
    "\n",
    "ax[4].hist(panresponsivedv, bins = np.arange(7500, 10250, 100), color = 'orangered', alpha = 0.6)\n",
    "panx = np.arange(7500, 10250, 100)[:-1]\n",
    "pany = np.histogram(panresponsivedv, bins = np.arange(7500, 10250, 100))[0]\n",
    "g_pan = models.Gaussian1D(amplitude=np.max(pany), mean = np.mean(panresponsivedv), stddev = np.std(panresponsivedv))\n",
    "fit_pan = fitting.LevMarLSQFitter()\n",
    "g_pan = fit_pan(g_pan, panx, pany)\n",
    "e = ax[4].plot(panx, g_pan(panx), color = 'orangered')\n",
    "ax[4].grid(False)\n",
    "\n",
    "f = ax[5].hist(dvlocation, bins = np.arange(7500, 10250, 100), color = 'black', alpha = 0.6)\n",
    "x = np.arange(7500, 10250, 100)[:-1]\n",
    "y = np.histogram(dvlocation, bins = np.arange(7500, 10250, 100))[0]\n",
    "g = models.Gaussian1D(amplitude=np.max(y), mean = np.mean(dvlocation), stddev = np.std(dvlocation))\n",
    "fit = fitting.LevMarLSQFitter()\n",
    "g = fit(g, x, y)\n",
    "#ax[5].plot(x, g(x), color = 'black')\n",
    "ax[5].grid(False)\n",
    "ax[5].set_xlim(7500, 10000)\n",
    "ax[5].set_xticklabels((-7.5, -8, -8.5, -9, -9.5, -10))\n",
    "ax[5].set_xlabel('Depth (mm)', fontsize = 12)\n",
    "ax[5].set_yticklabels((0,50),fontsize = 8)\n",
    "ax[4].set_yticklabels((0,5), fontsize = 8)\n",
    "ax[3].set_yticklabels((0,5), fontsize = 8)\n",
    "ax[2].set_yticklabels((0,5), fontsize = 8)\n",
    "ax[1].set_yticklabels((0,2), fontsize = 8)\n",
    "ax[0].set_yticklabels((0,2.5), fontsize = 8)\n",
    "\n",
    "plt.subplots_adjust(hspace = .3)\n",
    "\n",
    "ax[0].spines['left'].set_color('k')\n",
    "ax[0].spines['bottom'].set_color('k')\n",
    "ax[1].spines['left'].set_color('k')\n",
    "ax[1].spines['bottom'].set_color('k')\n",
    "ax[2].spines['left'].set_color('k')\n",
    "ax[2].spines['bottom'].set_color('k')\n",
    "ax[3].spines['left'].set_color('k')\n",
    "ax[3].spines['bottom'].set_color('k')\n",
    "ax[4].spines['left'].set_color('k')\n",
    "ax[4].spines['bottom'].set_color('k')\n",
    "ax[5].spines['left'].set_color('k')\n",
    "ax[5].spines['bottom'].set_color('k')\n",
    "ax[0].set_facecolor('white')\n",
    "ax[1].set_facecolor('white')\n",
    "ax[2].set_facecolor('white')\n",
    "ax[3].set_facecolor('white')\n",
    "ax[4].set_facecolor('white')\n",
    "ax[5].set_facecolor('white')\n",
    "plt.rcParams['svg.fonttype'] = 'none'\n",
    "\n",
    "plt.savefig('F:/Figures_median/F2_distribution.png', dpi = 300)\n",
    "plt.savefig('F:/Figures_median/F2_distribution.svg', format = 'svg', dpi = 500, transparent = True)"
   ]
  },
  {
   "cell_type": "code",
   "execution_count": 45,
   "metadata": {},
   "outputs": [
    {
     "data": {
      "image/png": "[encoded data removed]",
      "text/plain": [
       "<Figure size 216x216 with 1 Axes>"
      ]
     },
     "metadata": {},
     "output_type": "display_data"
    }
   ],
   "source": [
    "### figure simply to extract figure legend\n",
    "\n",
    "fig, ax = plt.subplots(1, figsize = (3,3))\n",
    "\n",
    "ax.hist(maledv, bins = np.arange(7500, 10250, 100), color = 'dodgerblue', alpha = 0.6)\n",
    "ax.hist(femaledv, bins = np.arange(7500, 10250, 100), color = 'firebrick', alpha = 0.6)\n",
    "ax.hist(objectdv, bins = np.arange(7500, 10250, 100), color = 'darkviolet', alpha = 0.6)\n",
    "ax.hist(fooddv, bins = np.arange(7500, 10250, 100), color = 'darkorange', alpha = 0.6)\n",
    "ax.hist(panresponsivedv, bins = np.arange(7500, 10250, 100), color = 'orangered', alpha = 0.6)\n",
    "ax.hist(dvlocation, bins = np.arange(7500, 10250, 100), color = 'black', alpha = 0.6)\n",
    "\n",
    "plt.legend(('Male', 'Female', 'Object', 'Food', 'Panresponsive', 'All Neurons'), bbox_to_anchor = (1,1))\n",
    "\n",
    "plt.tight_layout()\n",
    "plt.rcParams['svg.fonttype'] = 'none'\n",
    "\n",
    "#plt.savefig('F:/Figure2/Neurons_DVaxis_legend.svg', format = 'svg', dpi = 500, transparent=True)"
   ]
  },
  {
   "cell_type": "code",
   "execution_count": 8,
   "metadata": {},
   "outputs": [],
   "source": [
    "pdists_male = spatial.distance.pdist(maledv.reshape(len(maledv), 1))\n",
    "pdists_female = spatial.distance.pdist(femaledv.reshape(len(femaledv), 1))\n",
    "pdists_obj = spatial.distance.pdist(objectdv.reshape(len(objectdv), 1))\n",
    "pdists_food = spatial.distance.pdist(fooddv.reshape(len(fooddv), 1))\n",
    "pdists_pan = spatial.distance.pdist(panresponsivedv.reshape(len(panresponsivedv), 1))\n",
    "pdists_all = spatial.distance.pdist(dvlocation.reshape(len(dvlocation), 1))"
   ]
  },
  {
   "cell_type": "code",
   "execution_count": 9,
   "metadata": {},
   "outputs": [
    {
     "data": {
      "image/png": "[encoded data removed]",
      "text/plain": [
       "<Figure size 324x180 with 2 Axes>"
      ]
     },
     "metadata": {},
     "output_type": "display_data"
    }
   ],
   "source": [
    "fig, ax = plt.subplots(1,2, figsize = (4.5,2.5))\n",
    "\n",
    "ax[0].hist(pdists_all, bins = np.arange(0, 3000, 10), density = True, histtype = 'step', color = 'grey', lw = 2, cumulative = True)\n",
    "ax[0].hist(pdists_male, bins = np.arange(0, 3000, 10), density = True, histtype = 'step', color = 'dodgerblue', lw = 2, cumulative = True)\n",
    "ax[0].hist(pdists_obj, bins = np.arange(0, 3000, 10), density = True, histtype = 'step', color = 'darkviolet', lw = 2, cumulative = True)\n",
    "ax[0].hist(pdists_food, bins = np.arange(0, 3000, 10), density = True, histtype = 'step', color = 'darkorange', lw = 2, cumulative = True)\n",
    "ax[0].set_facecolor('white')\n",
    "ax[0].spines['left'].set_color('k')\n",
    "ax[0].spines['bottom'].set_color('k')\n",
    "\n",
    "ax[0].set_xlim(0, 1800)\n",
    "ax[0].set_xticks((0,500,1000,1500))\n",
    "ax[0].set_xticklabels((0,.5,1,1.5))\n",
    "ax[0].grid(False)\n",
    "ax[1].bar((0,1,2,3,4,5), (np.mean(pdists_male), np.mean(pdists_obj), np.mean(pdists_food), np.mean(pdists_female), np.mean(pdists_pan), np.mean(pdists_all)), \n",
    "          yerr = (stats.sem(pdists_male), stats.sem(pdists_obj), stats.sem(pdists_food), stats.sem(pdists_female), stats.sem(pdists_pan), stats.sem(pdists_all)), color = ('dodgerblue', 'darkviolet', 'darkorange', 'firebrick', 'orangered', 'grey'))\n",
    "#ax[1].boxplot((pdists_male, pdists_obj, pdists_food, pdists_female, pdists_pan, pdists_all), showcaps = False, showfliers = False)\n",
    "ax[1].grid(False)\n",
    "ax[1].set_xticks((0,1,2,3,4,5))\n",
    "ax[1].set_xticklabels(('Male', 'Object', 'Food', 'Female', 'Panresponsive', 'All BLA'), rotation = 90, fontsize = 8)\n",
    "ax[1].set_ylabel('Pair-wise \\nDistance (mm)')\n",
    "ax[1].set_facecolor('white')\n",
    "ax[1].spines['left'].set_color('k')\n",
    "ax[1].spines['bottom'].set_color('k')\n",
    "ax[1].set_ylim(300,700)\n",
    "ax[0].set_ylabel('Fraction of Units')\n",
    "ax[0].set_xlabel('Pair-wise Distance (mm)')\n",
    "plt.tight_layout()\n",
    "plt.rcParams['svg.fonttype'] = 'none'\n",
    "\n",
    "plt.savefig('F:/Figures_median//F2_pdists.png', dpi = 300)\n",
    "plt.savefig('F:/Figures_median/F2_pdists.svg', format = 'svg', dpi = 500, transparent = True)"
   ]
  },
  {
   "cell_type": "code",
   "execution_count": null,
   "metadata": {},
   "outputs": [],
   "source": []
  }
 ],
 "metadata": {
  "kernelspec": {
   "display_name": "Python 3",
   "language": "python",
   "name": "python3"
  },
  "language_info": {
   "codemirror_mode": {
    "name": "ipython",
    "version": 3
   },
   "file_extension": ".py",
   "mimetype": "text/x-python",
   "name": "python",
   "nbconvert_exporter": "python",
   "pygments_lexer": "ipython3",
   "version": "3.8.5"
  }
 },
 "nbformat": 4,
 "nbformat_minor": 4
}
