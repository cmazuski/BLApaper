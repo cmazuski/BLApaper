{
 "cells": [
  {
   "cell_type": "code",
   "execution_count": 1,
   "metadata": {},
   "outputs": [
    {
     "name": "stdout",
     "output_type": "stream",
     "text": [
      "importing Jupyter notebook from func_analysis.ipynb\n",
      "importing Jupyter notebook from func_format.ipynb\n"
     ]
    }
   ],
   "source": [
    "##### animal presentation time courses\n",
    "\n",
    "import numpy as np\n",
    "import os\n",
    "import matplotlib.pyplot as plt\n",
    "from matplotlib import style\n",
    "style.use('ggplot')\n",
    "\n",
    "import import_ipynb\n",
    "import func_analysis\n",
    "import func_format"
   ]
  },
  {
   "cell_type": "code",
   "execution_count": 2,
   "metadata": {},
   "outputs": [],
   "source": [
    "inttimes = np.loadtxt('F:/InteractionPresentation_synctimes.csv', delimiter = ',', dtype = str)"
   ]
  },
  {
   "cell_type": "code",
   "execution_count": 4,
   "metadata": {},
   "outputs": [
    {
     "data": {
      "text/plain": [
       "array(['RatID', 'Date', 'Video ID', 'Range 1 STart', 'Presentation Start',\n",
       "       'Range1 stop', 'Engagement Start', 'First Physical Contact',\n",
       "       'Range 2 Start', 'Presentation Stop', 'Range2 Stop'], dtype='<U22')"
      ]
     },
     "execution_count": 4,
     "metadata": {},
     "output_type": "execute_result"
    }
   ],
   "source": [
    "inttimes[0]"
   ]
  },
  {
   "cell_type": "code",
   "execution_count": 11,
   "metadata": {},
   "outputs": [],
   "source": [
    "presentationstart = np.array(inttimes[1:,3], np.float)\n",
    "presentationstop = np.array(inttimes[1:,5], np.float)\n",
    "presentation = np.array(inttimes[1:,4], np.float)\n",
    "\n",
    "approachstart = np.array(inttimes[1:,6], np.float)\n",
    "contactstart = np.array(inttimes[1:,7], np.float)"
   ]
  },
  {
   "cell_type": "code",
   "execution_count": 10,
   "metadata": {},
   "outputs": [],
   "source": [
    "presentationduration = presentationstop-presentationstart"
   ]
  },
  {
   "cell_type": "code",
   "execution_count": 14,
   "metadata": {},
   "outputs": [],
   "source": [
    "delaytoapproach = approachstart-presentation"
   ]
  },
  {
   "cell_type": "code",
   "execution_count": 15,
   "metadata": {},
   "outputs": [],
   "source": [
    "approachtocontact = contactstart-approachstart"
   ]
  },
  {
   "cell_type": "code",
   "execution_count": 26,
   "metadata": {},
   "outputs": [],
   "source": [
    "presentationtocontact = contactstart-presentation"
   ]
  },
  {
   "cell_type": "code",
   "execution_count": 45,
   "metadata": {},
   "outputs": [],
   "source": [
    "passiveduration = presentationtocontact[np.isnan(approachstart)]\n",
    "activeduration = presentationtocontact[np.isnan(approachstart) == False]"
   ]
  },
  {
   "cell_type": "code",
   "execution_count": 47,
   "metadata": {},
   "outputs": [
    {
     "data": {
      "text/plain": [
       "0.20437956204379562"
      ]
     },
     "execution_count": 47,
     "metadata": {},
     "output_type": "execute_result"
    }
   ],
   "source": [
    "len(passiveduration)/(len(passiveduration)+len(activeduration))"
   ]
  },
  {
   "cell_type": "code",
   "execution_count": 76,
   "metadata": {},
   "outputs": [
    {
     "data": {
      "text/plain": [
       "2.4929070234454973"
      ]
     },
     "execution_count": 76,
     "metadata": {},
     "output_type": "execute_result"
    }
   ],
   "source": [
    "np.nanmean(approachtocontact)"
   ]
  },
  {
   "cell_type": "code",
   "execution_count": 37,
   "metadata": {},
   "outputs": [
    {
     "data": {
      "image/png": "[encoded data removed]",
      "text/plain": [
       "<Figure size 360x144 with 1 Axes>"
      ]
     },
     "metadata": {},
     "output_type": "display_data"
    }
   ],
   "source": [
    "fig, ax = plt.subplots(1, figsize = (5,2))\n",
    "\n",
    "ax.boxplot((presentationtocontact, presentationduration, \n",
    "            delaytoapproach[np.isnan(delaytoapproach)==False], \n",
    "            approachtocontact[np.isnan(approachtocontact)==False]), \n",
    "           positions = (0,1.5,2.5, 3.5), showfliers = False, showcaps = False, widths = .6)\n",
    "\n",
    "ax.grid(False)\n",
    "\n",
    "ax.set_facecolor('white')\n",
    "ax.spines['left'].set_color('k')\n",
    "ax.spines['bottom'].set_color('k')\n",
    "\n",
    "ax.set_ylabel('Time (s)')\n",
    "\n",
    "ax.set_xticks((0,1.5,2.5,3.5))\n",
    "ax.set_xticklabels(('Event Start \\nDuration', 'Stimulus \\nPresentation', 'Delay to \\nApproach', 'Delay to \\nContact'))\n",
    "\n",
    "plt.rcParams['svg.fonttype'] = 'none'\n",
    "plt.savefig('F:/Figure3_New/Behaviorvalues.png', dpi = 300)\n",
    "plt.savefig('F:/Figure3_New/Behaviorvalues.svg', format = 'svg', dpi = 500, transparent = True)"
   ]
  },
  {
   "cell_type": "code",
   "execution_count": 49,
   "metadata": {},
   "outputs": [
    {
     "data": {
      "text/plain": [
       "array([ 13.378,  24.333,  16.623,  56.588,  32.699,   1.645,   3.365,\n",
       "         6.199,   9.599,   7.489,  25.645,  39.573,   7.845,   0.82 ,\n",
       "         4.001,   5.398,   1.023,   1.466,   5.789,   8.466,   4.067,\n",
       "         2.4  ,   5.223,   3.796,  26.363,   4.352,   1.866,   3.822,\n",
       "        84.475,  49.075,  35.725,  37.925,  20.583,  31.897,  15.9  ,\n",
       "        48.825,  27.588,  21.85 ,  10.175, 108.256,  14.95 ,  45.625,\n",
       "        19.275,  67.516, 157.548,  26.025,  18.196,  11.475,  11.65 ,\n",
       "        35.837,  26.788,   9.9  ,  21.724,  10.275,  89.837,  20.65 ,\n",
       "        10.733,  24.127,  13.   ,   7.05 ,  26.525,  40.038,   7.3  ,\n",
       "         6.801,  15.4  ,  29.7  ,  86.875,  12.125,  29.975,  29.6  ,\n",
       "        13.877,  21.887,   5.25 ,  14.6  ,  42.981,  14.925,   7.9  ,\n",
       "        12.4  ,  13.875,  25.786,  29.575, 115.55 ,   8.275,   8.348,\n",
       "         9.95 ,   7.575,   7.192,  12.6  ,   8.25 ,  13.75 ,   4.999,\n",
       "         5.15 ,   5.449,   6.375,  11.75 ,   7.425,   5.825,   6.85 ,\n",
       "         5.775,   3.375,   6.175,   3.125,   5.625,   6.875,   3.25 ,\n",
       "         3.25 ,   6.9  ,   2.325,   4.25 ,   0.75 ,  24.477,  13.025,\n",
       "        14.3  ,   8.105,   5.75 ,   8.525,   6.338,   9.5  ,   8.125,\n",
       "         1.475,  10.85 ,   5.325,   2.275,   8.4  ,   2.2  ,   0.7  ,\n",
       "         2.526,   1.324,   3.002,   2.037,   1.525,   1.25 ,   2.   ,\n",
       "         7.525,   2.025,   2.875,   1.025])"
      ]
     },
     "execution_count": 49,
     "metadata": {},
     "output_type": "execute_result"
    }
   ],
   "source": [
    "presentationtocontact"
   ]
  },
  {
   "cell_type": "code",
   "execution_count": 74,
   "metadata": {},
   "outputs": [
    {
     "data": {
      "image/png": "[encoded data removed]",
      "text/plain": [
       "<Figure size 108x144 with 1 Axes>"
      ]
     },
     "metadata": {},
     "output_type": "display_data"
    }
   ],
   "source": [
    "fig, ax = plt.subplots(1, figsize = (1.5,2))\n",
    "\n",
    "ax.boxplot((presentationtocontact), positions = ([0]), showfliers = False, showcaps = False, widths = .6)\n",
    "\n",
    "ax.grid(False)\n",
    "\n",
    "ax.set_facecolor('white')\n",
    "ax.spines['left'].set_color('k')\n",
    "ax.spines['bottom'].set_color('k')\n",
    "\n",
    "ax.set_ylabel('Time (s)')\n",
    "ax.set_xticks(([0]))\n",
    "ax.set_xticklabels((['Presentation \\nto Contact']))\n",
    "\n",
    "plt.rcParams['svg.fonttype'] = 'none'\n",
    "plt.savefig('F:/Figure3_New/Behaviorvalues.png', dpi = 300)\n",
    "plt.savefig('F:/Figure3_New/Behaviorvalues.svg', format = 'svg', dpi = 500, transparent = True)"
   ]
  },
  {
   "cell_type": "code",
   "execution_count": null,
   "metadata": {},
   "outputs": [],
   "source": []
  }
 ],
 "metadata": {
  "kernelspec": {
   "display_name": "Python 3",
   "language": "python",
   "name": "python3"
  },
  "language_info": {
   "codemirror_mode": {
    "name": "ipython",
    "version": 3
   },
   "file_extension": ".py",
   "mimetype": "text/x-python",
   "name": "python",
   "nbconvert_exporter": "python",
   "pygments_lexer": "ipython3",
   "version": "3.8.5"
  }
 },
 "nbformat": 4,
 "nbformat_minor": 4
}
