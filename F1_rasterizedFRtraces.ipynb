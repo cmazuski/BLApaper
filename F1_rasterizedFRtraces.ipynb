{
 "cells": [
  {
   "cell_type": "code",
   "execution_count": 2,
   "metadata": {},
   "outputs": [
    {
     "name": "stdout",
     "output_type": "stream",
     "text": [
      "importing Jupyter notebook from func_analysis.ipynb\n",
      "importing Jupyter notebook from func_behavclass.ipynb\n",
      "importing Jupyter notebook from func_format.ipynb\n"
     ]
    }
   ],
   "source": [
    "import os\n",
    "import matplotlib.pyplot as plt\n",
    "import numpy as np\n",
    "from matplotlib import style\n",
    "style.use('ggplot')\n",
    "\n",
    "from astropy.convolution import convolve, Box1DKernel, Gaussian1DKernel\n",
    "import yaml\n",
    "\n",
    "import import_ipynb\n",
    "import func_analysis\n",
    "import func_behavclass\n",
    "import func_format\n",
    "\n",
    "np.set_printoptions(precision = 3, suppress = True)"
   ]
  },
  {
   "cell_type": "code",
   "execution_count": 30,
   "metadata": {},
   "outputs": [],
   "source": [
    "ratID = 'Amygdala6'\n",
    "date = '13042019'\n",
    "neuron = '4A'\n",
    "\n",
    "configpath = 'F:/'+ratID+'/Parameters_'+date+'.yml'\n",
    "savepath = 'F:/'+'representativetraces/'\n",
    "\n",
    "func_format.foldercheck(savepath)\n",
    "\n",
    "[foldername, inttype, intcat, presentationnum, videosync_start, videosync_stop, framerate, framestouse, intsync_start, intsync_stop] = func_format.openconfig(configpath)\n",
    "\n",
    "inttimes = np.vstack((intsync_start, intsync_stop)).T\n",
    "\n",
    "spiketimes = np.load('F:/'+ratID+'/Electrophys/'+date+'/SpikeTimes/Neurons_rename/'+neuron+'.npy')/1000\n",
    "smoothed_fr = func_analysis.firingrate(spiketimes, 1, spiketimes[0], spiketimes[-1], smooth=True, smoothkernel = np.sqrt(180))\n",
    "\n"
   ]
  },
  {
   "cell_type": "code",
   "execution_count": 31,
   "metadata": {},
   "outputs": [
    {
     "data": {
      "image/png": "[encoded data removed]",
      "text/plain": [
       "<Figure size 360x126 with 1 Axes>"
      ]
     },
     "metadata": {},
     "output_type": "display_data"
    }
   ],
   "source": [
    "\n",
    "colorscheme = {'Male': 'dodgerblue', 'Object': 'darkviolet', 'Food': 'darkorange', 'Female': 'firebrick'}\n",
    "fig, ax = plt.subplots(1, figsize = (5, 1.75))\n",
    "\n",
    "ax.plot(smoothed_fr, color = 'k', lw = .5)\n",
    "#ax.set_xlim(10200, 11000)\n",
    "\n",
    "ax.set_xticks((0, 1800, 3600, 5400, 7200, 9000, 10800, 12600, 14400, 16200))\n",
    "ax.set_xticklabels((0, 30, 60, 90, 120, 150, 180, 210, 240, 270), fontsize = 8)\n",
    "for i, inttime in enumerate(inttimes):\n",
    "    ax.axvspan(inttime[0], inttime[1], color = colorscheme[np.ravel(intcat)[i]], alpha = 0.3)\n",
    "    #ax.vlines(inttime[1], 0, 20, alpha=0.3)\n",
    "ax.set_ylim(0,10)\n",
    "ax.set_yticks((0,6))\n",
    "ax.set_yticklabels((0,6), fontsize = 8)\n",
    "ax.set_xlim(0, 16200)\n",
    "ax.set_xlabel('Time (min)', fontsize = 10)\n",
    "ax.set_ylabel('Spikes/sec', fontsize = 10)\n",
    "\n",
    "plt.tight_layout()\n",
    "plt.grid(False)\n",
    "ax.set_facecolor('white')\n",
    "ax.spines['left'].set_color('k')\n",
    "ax.spines['bottom'].set_color('k')\n",
    "plt.rcParams['svg.fonttype'] = 'none'\n",
    "plt.savefig(savepath+'4Aday1.svg', format = 'svg', dpi = 300, transparent = True)\n",
    "\n",
    "#plt.savefig('G:/aftereffect.svg', format = 'svg', dpi = 500, transparent = True)\n",
    "\n",
    "#plt.savefig('F:/Figure3_New/14A_malesingletrace.svg', format = 'svg', dpi = 500, transparent = True)\n",
    "#plt.savefig(savepath+'25Afemale_wholetrace.svg', format = 'svg', dpi = 500, transparent = True)"
   ]
  },
  {
   "cell_type": "code",
   "execution_count": 35,
   "metadata": {},
   "outputs": [],
   "source": [
    "start = inttimes[1][0]\n",
    "stop = inttimes[1][1]\n",
    "intspikes = func_analysis.extractSpikes(spiketimes, start, stop)\n",
    "basespikes = func_analysis.extractSpikes(spiketimes, start-300, start)\n",
    "\n",
    "intfr = func_analysis.firingrate(intspikes, 1, start, stop, smooth=False)\n",
    "basefr = func_analysis.firingrate(basespikes, 1, start-300, start, smooth=False)\n",
    "\n",
    "[auROC, fpr, tpr] = func_analysis.calcROC(basefr, intfr)"
   ]
  },
  {
   "cell_type": "code",
   "execution_count": 43,
   "metadata": {},
   "outputs": [
    {
     "data": {
      "image/png": "[encoded data removed]",
      "text/plain": [
       "<Figure size 180x93.6 with 2 Axes>"
      ]
     },
     "metadata": {},
     "output_type": "display_data"
    }
   ],
   "source": [
    "plt.rcParams['svg.fonttype'] = 'none'\n",
    "fig, ax = plt.subplots(1, 2, figsize = (2.5, 1.3))\n",
    "\n",
    "ax[0].hist(basefr, bins = np.arange(0,100), color = 'black', alpha = 0.5)\n",
    "ax[0].hist(intfr, bins = np.arange(0,100), color = 'darkviolet', alpha = 0.5)\n",
    "ax[0].spines['left'].set_color('black')\n",
    "ax[0].spines['bottom'].set_color('black')\n",
    "ax[1].plot(fpr, tpr, color = 'darkviolet', lw =1)\n",
    "ax[1].plot((0,1), (0,1), color = 'black', linestyle = '--', lw = 1)\n",
    "ax[1].spines['left'].set_color('k')\n",
    "ax[1].spines['bottom'].set_color('black')\n",
    "ax[1].set_facecolor('white')\n",
    "ax[1].set_xlim(-.05, 1.05)\n",
    "ax[1].set_ylim(-.05, 1.05)\n",
    "ax[1].set_xticks((0,1))\n",
    "ax[1].set_yticks((0,1))\n",
    "ax[1].set_yticklabels((0,1), fontsize = 6)\n",
    "ax[1].set_xticklabels((0,1), fontsize = 6)\n",
    "ax[0].set_xlim((0,10))\n",
    "ax[0].set_xticks((0, 10))\n",
    "ax[0].set_xticklabels((0,10), fontsize = (6))\n",
    "ax[0].set_ylabel('Count', fontsize = 10)\n",
    "ax[0].set_yticks((0,30))\n",
    "ax[0].set_yticklabels((0,30), fontsize = 6)\n",
    "ax[0].set_xlabel('Spikes/sec', fontsize = 10)\n",
    "ax[1].set_xlabel('FPR', fontsize = 8)\n",
    "ax[1].set_ylabel('TPR', fontsize = 8)\n",
    "\n",
    "ax[0].grid(False)\n",
    "ax[1].grid(False)\n",
    "ax[0].set_facecolor('white')\n",
    "plt.tight_layout()\n",
    "\n",
    "plt.savefig(savepath+'116Anoresponse_rocobject.svg', format = 'svg', dpi = 500, transparent = True)"
   ]
  },
  {
   "cell_type": "code",
   "execution_count": 39,
   "metadata": {},
   "outputs": [],
   "source": [
    "start = inttimes[4][0]\n",
    "stop = inttimes[4][1]\n",
    "intspikes = func_analysis.extractSpikes(spiketimes, start, stop)\n",
    "basespikes = func_analysis.extractSpikes(spiketimes, start-300, start)\n",
    "\n",
    "intfr = func_analysis.firingrate(intspikes, 1, start, stop, smooth=False)\n",
    "basefr = func_analysis.firingrate(basespikes, 1, start-300, start, smooth=False)\n",
    "\n",
    "[auROC, fpr, tpr] = func_analysis.calcROC(basefr, intfr)"
   ]
  },
  {
   "cell_type": "code",
   "execution_count": 44,
   "metadata": {},
   "outputs": [
    {
     "data": {
      "image/png": "[encoded data removed]",
      "text/plain": [
       "<Figure size 180x93.6 with 2 Axes>"
      ]
     },
     "metadata": {},
     "output_type": "display_data"
    }
   ],
   "source": [
    "plt.rcParams['svg.fonttype'] = 'none'\n",
    "fig, ax = plt.subplots(1, 2, figsize = (2.5, 1.3))\n",
    "\n",
    "ax[0].hist(basefr, bins = np.arange(0,100), color = 'black', alpha = 0.5)\n",
    "ax[0].hist(intfr, bins = np.arange(0,100), color = 'firebrick', alpha = 0.5)\n",
    "ax[0].spines['left'].set_color('black')\n",
    "ax[0].spines['bottom'].set_color('black')\n",
    "ax[1].plot(fpr, tpr, color = 'firebrick', lw =1)\n",
    "ax[1].plot((0,1), (0,1), color = 'black', linestyle = '--', lw = 1)\n",
    "ax[1].spines['left'].set_color('k')\n",
    "ax[1].spines['bottom'].set_color('black')\n",
    "ax[1].set_facecolor('white')\n",
    "ax[1].set_xlim(-.05, 1.05)\n",
    "ax[1].set_ylim(-.05, 1.05)\n",
    "ax[0].set_xlim(0,10)\n",
    "ax[1].set_xticks((0,1))\n",
    "ax[1].set_yticks((0,1))\n",
    "ax[1].set_yticklabels((0,1), fontsize = 6)\n",
    "ax[1].set_xticklabels((0,1), fontsize = 6)\n",
    "ax[0].set_xticks((0, 10))\n",
    "ax[0].set_xticklabels((0,10), fontsize = (6))\n",
    "ax[0].set_ylabel('Count', fontsize = 10)\n",
    "ax[0].set_yticks((0,30))\n",
    "ax[0].set_yticklabels((0,30), fontsize = 6)\n",
    "ax[0].set_xlabel('Spikes/sec', fontsize = 10)\n",
    "ax[1].set_xlabel('FPR', fontsize = 8)\n",
    "ax[1].set_ylabel('TPR', fontsize = 8)\n",
    "\n",
    "ax[0].grid(False)\n",
    "ax[1].grid(False)\n",
    "ax[0].set_facecolor('white')\n",
    "plt.tight_layout()\n",
    "\n",
    "plt.savefig(savepath+'116Anoresponse_rocfemale.svg', format = 'svg', dpi = 500, transparent = True)"
   ]
  },
  {
   "cell_type": "code",
   "execution_count": null,
   "metadata": {},
   "outputs": [],
   "source": [
    "behavioralvalues = np.loadtxt('F:/Amygdala6/TrackingData/13042019_rat1values.csv', delimiter = ',', dtype = str)"
   ]
  },
  {
   "cell_type": "code",
   "execution_count": null,
   "metadata": {},
   "outputs": [],
   "source": [
    "plt.spines?"
   ]
  },
  {
   "cell_type": "code",
   "execution_count": null,
   "metadata": {},
   "outputs": [],
   "source": [
    "plt.close()\n",
    "\n",
    "fig, ax = plt.subplots(3, figsize = (10, 3), sharex = True)\n",
    "\n",
    "#ax.plot((0, len(smoothed_fr)), (1,1), color = 'k', lw = 1)\n",
    "\n",
    "for i, inttime in enumerate(inttimes):\n",
    "    ax[0].plot((inttime[0]-240, inttime[1]+240), (1,1), color = 'k', lw =1)\n",
    "    ax[0].vlines(inttime[0]-240, .99, 1.01, lw = 1)\n",
    "    ax[0].vlines(inttime[1]+240, .99, 1.01, lw = 1)\n",
    "    ax[0].axvspan(inttime[0], inttime[1], color = colorscheme[np.ravel(intcat)[i]], alpha = 0.3)\n",
    "    \n",
    "ax[0].set_ylim(.97,1.02)\n",
    "ax[0].grid(False)\n",
    "ax[0].set_yticks([])\n",
    "#ax[0].set_xticks((0, 3600, 7200, 10800, 14400))\n",
    "#ax[0].set_xticklabels((0, 1, 2, 3, 4))\n",
    "ax[0].set_xlim(-100, inttime[1]+400)\n",
    "ax[1].plot(np.array(behavioralvalues[0,1:], np.float), convolve(np.array(behavioralvalues[2,1:], np.float), Gaussian1DKernel(np.sqrt(40*300)), preserve_nan=True), lw = .5, color = 'k')\n",
    "\n",
    "ax[1].set_ylim(0,10)\n",
    "ax[1].set_xlim(-100,inttime[1]+400)\n",
    "\n",
    "for i, inttime in enumerate(inttimes):\n",
    "    ax[1].axvspan(inttime[0], inttime[1], color = colorscheme[np.ravel(intcat)[i]], alpha = 0.3)\n",
    "    \n",
    "ax[2].plot(np.array(behavioralvalues[0,1:], np.float), convolve(np.array(behavioralvalues[-1,1:], np.float), Gaussian1DKernel(np.sqrt(40*300)), preserve_nan=True), lw = .5, color = 'k')\n",
    "\n",
    "for i, inttime in enumerate(inttimes):\n",
    "    ax[2].axvspan(inttime[0], inttime[1], color = colorscheme[np.ravel(intcat)[i]], alpha = 0.3)\n",
    "ax[2].set_ylim(0,10)\n",
    "\n",
    "ax[1].grid(False)\n",
    "ax[2].grid(False)\n",
    "ax[0].set_facecolor('white')\n",
    "ax[1].set_facecolor('white')\n",
    "ax[2].set_facecolor('white')\n",
    "\n",
    "ax[0].tick_params(bottom=None)\n",
    "ax[1].tick_params(bottom=None)\n",
    "ax[1].set_yticks((5,10))\n",
    "ax[2].set_yticks((0,10))\n",
    "ax[2].set_xticks((0, 3600, 7200, 10800, 14400))\n",
    "ax[2].set_xticklabels((0, 1, 2, 3, 4))\n",
    "ax[2].set_xlabel('Time (h)')\n",
    "ax[2].set_ylabel('Stimulus \\nVelocity', fontsize = 10)\n",
    "ax[1].set_ylabel('Velocity', fontsize = 10)\n",
    "#ax[0].set_ylabel('Trial \\nStructure', fontsize = 10)\n",
    "plt.subplots_adjust(hspace=.000000001)\n",
    "plt.tight_layout()\n",
    "\n",
    "plt.savefig('F:/FigurePlots/ExperimentalDesign.png', dpi = 300)"
   ]
  },
  {
   "cell_type": "code",
   "execution_count": 71,
   "metadata": {},
   "outputs": [
    {
     "data": {
      "image/png": "[encoded data removed]",
      "text/plain": [
       "<Figure size 216x216 with 3 Axes>"
      ]
     },
     "metadata": {},
     "output_type": "display_data"
    }
   ],
   "source": [
    "noresponse = np.array([-.10078, -.11303, -.09352, -.01154])\n",
    "female = np.array([-.11083, 0.429358, -.13146, -.16811])\n",
    "pan = np.array([.350322, .511459, .745358, -.03484])\n",
    "\n",
    "fig, ax = plt.subplots(3, figsize = (3, 3), sharex = True, sharey = True)\n",
    "\n",
    "a = ax[0].imshow(noresponse.reshape(1,-1), vmin = -1, vmax = 1, cmap = 'seismic')\n",
    "ax[1].imshow(female.reshape(1,-1), vmin = -1, vmax = 1, cmap = 'seismic')\n",
    "ax[2].imshow(pan.reshape(1,-1), vmin = -1, vmax = 1, cmap = 'seismic')\n",
    "\n",
    "ax[0].grid(False)\n",
    "ax[1].grid(False)\n",
    "ax[2].grid(False)\n",
    "\n",
    "ax[0].set_yticks([])\n",
    "\n",
    "ax[2].set_xticks((0,1,2,3))\n",
    "ax[2].set_xticklabels(('Male', 'Female', 'Toy', 'Food'))\n",
    "\n",
    "plt.savefig(savepath+'heatmap_averageresponsescore_s3.svg', format = 'svg', dpi = 500, transparent = True)"
   ]
  },
  {
   "cell_type": "code",
   "execution_count": 72,
   "metadata": {},
   "outputs": [
    {
     "data": {
      "image/png": "[encoded data removed]",
      "text/plain": [
       "<Figure size 432x288 with 2 Axes>"
      ]
     },
     "metadata": {},
     "output_type": "display_data"
    }
   ],
   "source": [
    "plt.colorbar(a, ticks = (-1, 0, 1))\n",
    "plt.savefig(savepath+'colorbar_heatmap_s3.svg', format = 'svg', dpi = 500, transparent=True)"
   ]
  },
  {
   "cell_type": "code",
   "execution_count": 66,
   "metadata": {},
   "outputs": [
    {
     "data": {
      "text/plain": [
       "\u001b[1;31mSignature:\u001b[0m \u001b[0mplt\u001b[0m\u001b[1;33m.\u001b[0m\u001b[0mcolorbar\u001b[0m\u001b[1;33m(\u001b[0m\u001b[0mmappable\u001b[0m\u001b[1;33m=\u001b[0m\u001b[1;32mNone\u001b[0m\u001b[1;33m,\u001b[0m \u001b[0mcax\u001b[0m\u001b[1;33m=\u001b[0m\u001b[1;32mNone\u001b[0m\u001b[1;33m,\u001b[0m \u001b[0max\u001b[0m\u001b[1;33m=\u001b[0m\u001b[1;32mNone\u001b[0m\u001b[1;33m,\u001b[0m \u001b[1;33m**\u001b[0m\u001b[0mkw\u001b[0m\u001b[1;33m)\u001b[0m\u001b[1;33m\u001b[0m\u001b[1;33m\u001b[0m\u001b[0m\n",
       "\u001b[1;31mDocstring:\u001b[0m\n",
       "Add a colorbar to a plot.\n",
       "\n",
       "Function signatures for the :mod:`~matplotlib.pyplot` interface; all\n",
       "but the first are also method signatures for the\n",
       ":meth:`~matplotlib.figure.Figure.colorbar` method::\n",
       "\n",
       "  colorbar(**kwargs)\n",
       "  colorbar(mappable, **kwargs)\n",
       "  colorbar(mappable, cax=cax, **kwargs)\n",
       "  colorbar(mappable, ax=ax, **kwargs)\n",
       "\n",
       "Parameters\n",
       "----------\n",
       "mappable\n",
       "    The `matplotlib.cm.ScalarMappable` (i.e., `~matplotlib.image.Image`,\n",
       "    `~matplotlib.contour.ContourSet`, etc.) described by this colorbar.\n",
       "    This argument is mandatory for the `.Figure.colorbar` method but optional\n",
       "    for the `.pyplot.colorbar` function, which sets the default to the current\n",
       "    image.\n",
       "\n",
       "    Note that one can create a `ScalarMappable` \"on-the-fly\" to generate\n",
       "    colorbars not attached to a previously drawn artist, e.g. ::\n",
       "\n",
       "        fig.colorbar(cm.ScalarMappable(norm=norm, cmap=cmap), ax=ax)\n",
       "\n",
       "cax : :class:`~matplotlib.axes.Axes` object, optional\n",
       "    Axes into which the colorbar will be drawn.\n",
       "\n",
       "ax : :class:`~matplotlib.axes.Axes`, list of Axes, optional\n",
       "    Parent axes from which space for a new colorbar axes will be stolen.\n",
       "    If a list of axes is given they will all be resized to make room for the\n",
       "    colorbar axes.\n",
       "\n",
       "use_gridspec : bool, optional\n",
       "    If *cax* is ``None``, a new *cax* is created as an instance of Axes.  If\n",
       "    *ax* is an instance of Subplot and *use_gridspec* is ``True``, *cax* is\n",
       "    created as an instance of Subplot using the :mod:`~.gridspec` module.\n",
       "\n",
       "Returns\n",
       "-------\n",
       "colorbar : `~matplotlib.colorbar.Colorbar`\n",
       "    See also its base class, `~matplotlib.colorbar.ColorbarBase`.  Use\n",
       "    `~.ColorbarBase.set_label` to label the colorbar.\n",
       "\n",
       "Notes\n",
       "-----\n",
       "Additional keyword arguments are of two kinds:\n",
       "\n",
       "  axes properties:\n",
       "\n",
       "\n",
       "    ============= ====================================================\n",
       "    Property      Description\n",
       "    ============= ====================================================\n",
       "    *orientation* vertical or horizontal\n",
       "    *fraction*    0.15; fraction of original axes to use for colorbar\n",
       "    *pad*         0.05 if vertical, 0.15 if horizontal; fraction\n",
       "                  of original axes between colorbar and new image axes\n",
       "    *shrink*      1.0; fraction by which to multiply the size of the colorbar\n",
       "    *aspect*      20; ratio of long to short dimensions\n",
       "    *anchor*      (0.0, 0.5) if vertical; (0.5, 1.0) if horizontal;\n",
       "                  the anchor point of the colorbar axes\n",
       "    *panchor*     (1.0, 0.5) if vertical; (0.5, 0.0) if horizontal;\n",
       "                  the anchor point of the colorbar parent axes. If\n",
       "                  False, the parent axes' anchor will be unchanged\n",
       "    ============= ====================================================\n",
       "\n",
       "\n",
       "  colorbar properties:\n",
       "\n",
       "\n",
       "    ============  ====================================================\n",
       "    Property      Description\n",
       "    ============  ====================================================\n",
       "    *extend*      [ 'neither' | 'both' | 'min' | 'max' ]\n",
       "                  If not 'neither', make pointed end(s) for out-of-\n",
       "                  range values.  These are set for a given colormap\n",
       "                  using the colormap set_under and set_over methods.\n",
       "    *extendfrac*  [ *None* | 'auto' | length | lengths ]\n",
       "                  If set to *None*, both the minimum and maximum\n",
       "                  triangular colorbar extensions with have a length of\n",
       "                  5% of the interior colorbar length (this is the\n",
       "                  default setting). If set to 'auto', makes the\n",
       "                  triangular colorbar extensions the same lengths as\n",
       "                  the interior boxes (when *spacing* is set to\n",
       "                  'uniform') or the same lengths as the respective\n",
       "                  adjacent interior boxes (when *spacing* is set to\n",
       "                  'proportional'). If a scalar, indicates the length\n",
       "                  of both the minimum and maximum triangular colorbar\n",
       "                  extensions as a fraction of the interior colorbar\n",
       "                  length. A two-element sequence of fractions may also\n",
       "                  be given, indicating the lengths of the minimum and\n",
       "                  maximum colorbar extensions respectively as a\n",
       "                  fraction of the interior colorbar length.\n",
       "    *extendrect*  bool\n",
       "                  If *False* the minimum and maximum colorbar extensions\n",
       "                  will be triangular (the default). If *True* the\n",
       "                  extensions will be rectangular.\n",
       "    *spacing*     [ 'uniform' | 'proportional' ]\n",
       "                  Uniform spacing gives each discrete color the same\n",
       "                  space; proportional makes the space proportional to\n",
       "                  the data interval.\n",
       "    *ticks*       [ None | list of ticks | Locator object ]\n",
       "                  If None, ticks are determined automatically from the\n",
       "                  input.\n",
       "    *format*      [ None | format string | Formatter object ]\n",
       "                  If None, the\n",
       "                  :class:`~matplotlib.ticker.ScalarFormatter` is used.\n",
       "                  If a format string is given, e.g., '%.3f', that is\n",
       "                  used. An alternative\n",
       "                  :class:`~matplotlib.ticker.Formatter` object may be\n",
       "                  given instead.\n",
       "    *drawedges*   bool\n",
       "                  Whether to draw lines at color boundaries.\n",
       "    ============  ====================================================\n",
       "\n",
       "    The following will probably be useful only in the context of\n",
       "    indexed colors (that is, when the mappable has norm=NoNorm()),\n",
       "    or other unusual circumstances.\n",
       "\n",
       "    ============   ===================================================\n",
       "    Property       Description\n",
       "    ============   ===================================================\n",
       "    *boundaries*   None or a sequence\n",
       "    *values*       None or a sequence which must be of length 1 less\n",
       "                   than the sequence of *boundaries*. For each region\n",
       "                   delimited by adjacent entries in *boundaries*, the\n",
       "                   color mapped to the corresponding value in values\n",
       "                   will be used.\n",
       "    ============   ===================================================\n",
       "\n",
       "\n",
       "\n",
       "If *mappable* is a :class:`~matplotlib.contours.ContourSet`, its *extend*\n",
       "kwarg is included automatically.\n",
       "\n",
       "The *shrink* kwarg provides a simple way to scale the colorbar with respect\n",
       "to the axes. Note that if *cax* is specified, it determines the size of the\n",
       "colorbar and *shrink* and *aspect* kwargs are ignored.\n",
       "\n",
       "For more precise control, you can manually specify the positions of\n",
       "the axes objects in which the mappable and the colorbar are drawn.  In\n",
       "this case, do not use any of the axes properties kwargs.\n",
       "\n",
       "It is known that some vector graphics viewers (svg and pdf) renders white gaps\n",
       "between segments of the colorbar.  This is due to bugs in the viewers, not\n",
       "Matplotlib.  As a workaround, the colorbar can be rendered with overlapping\n",
       "segments::\n",
       "\n",
       "    cbar = colorbar()\n",
       "    cbar.solids.set_edgecolor(\"face\")\n",
       "    draw()\n",
       "\n",
       "However this has negative consequences in other circumstances, e.g. with\n",
       "semi-transparent images (alpha < 1) and colorbar extensions; therefore, this\n",
       "workaround is not used by default (see issue #1188).\n",
       "\u001b[1;31mFile:\u001b[0m      c:\\programdata\\anaconda3\\lib\\site-packages\\matplotlib\\pyplot.py\n",
       "\u001b[1;31mType:\u001b[0m      function\n"
      ]
     },
     "metadata": {},
     "output_type": "display_data"
    }
   ],
   "source": [
    "plt.colorbar?"
   ]
  },
  {
   "cell_type": "code",
   "execution_count": null,
   "metadata": {},
   "outputs": [],
   "source": []
  }
 ],
 "metadata": {
  "kernelspec": {
   "display_name": "Python 3",
   "language": "python",
   "name": "python3"
  },
  "language_info": {
   "codemirror_mode": {
    "name": "ipython",
    "version": 3
   },
   "file_extension": ".py",
   "mimetype": "text/x-python",
   "name": "python",
   "nbconvert_exporter": "python",
   "pygments_lexer": "ipython3",
   "version": "3.8.5"
  }
 },
 "nbformat": 4,
 "nbformat_minor": 4
}
