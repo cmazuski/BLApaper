{
 "cells": [
  {
   "cell_type": "code",
   "execution_count": 1,
   "metadata": {},
   "outputs": [
    {
     "name": "stdout",
     "output_type": "stream",
     "text": [
      "importing Jupyter notebook from func_analysis.ipynb\n",
      "importing Jupyter notebook from func_format.ipynb\n"
     ]
    }
   ],
   "source": [
    "##### Decoding of stimulus identity (time-course)\n",
    "\n",
    "import numpy as np\n",
    "import os\n",
    "import matplotlib.pyplot as plt\n",
    "from matplotlib import style\n",
    "style.use('ggplot')\n",
    "\n",
    "import import_ipynb\n",
    "import func_analysis\n",
    "import func_format\n",
    "\n",
    "from sklearn.discriminant_analysis import LinearDiscriminantAnalysis\n",
    "from sklearn import metrics\n",
    "from scipy import stats\n"
   ]
  },
  {
   "cell_type": "code",
   "execution_count": 2,
   "metadata": {},
   "outputs": [
    {
     "name": "stderr",
     "output_type": "stream",
     "text": [
      "C:\\Users\\Cristina\\anaconda3\\lib\\site-packages\\sklearn\\metrics\\_classification.py:1814: UserWarning: y_pred contains classes not in y_true\n",
      "  warnings.warn('y_pred contains classes not in y_true')\n"
     ]
    }
   ],
   "source": [
    "resultsall = np.zeros(7)\n",
    "allstartpredicted = np.zeros(300)\n",
    "allstoppredicted = np.zeros(300)\n",
    "allstartactual = np.zeros(300)\n",
    "allstopactual = np.zeros(300)\n",
    "\n",
    "resultsfiles = ['F:/Figure3_New/LDAovertime/Amygdala6_LDAresults_persecond_responsiveonly.csv',\n",
    "               'F:/Figure3_New/LDAovertime/Amygdala8_LDAresults_persecond_responsiveonly.csv',\n",
    "               'F:/Figure3_New/LDAovertime/Amygdala10_LDAresults_persecond_responsiveonly.csv',\n",
    "               'F:/Figure3_New/LDAovertime/Amygdala11_LDAresults_persecond_responsiveonly.csv']\n",
    "ratID = ['Amygdala6', 'Amygdala8', 'Amygdala10', 'Amygdala11']\n",
    "date = ['13042019', '01102019', '27062020', '06072020']\n",
    "\n",
    "for f, file in enumerate(resultsfiles):\n",
    "    \n",
    "    Aresults = np.loadtxt(file, delimiter = ',', dtype = str)\n",
    "\n",
    "\n",
    "    for i, inte in enumerate(np.unique(Aresults[:,-2])):\n",
    "        \n",
    "        intresults = Aresults[Aresults[:,-2] == inte]\n",
    "        \n",
    "        before = Aresults[np.where((Aresults[:,-2] == inte) & (Aresults[:,3] == 'before'))]\n",
    "        during = Aresults[np.where((Aresults[:,-2] == inte) & (Aresults[:,3] == 'during'))]\n",
    "        after = Aresults[np.where((Aresults[:,-2] == inte) & (Aresults[:,3] == 'after'))]\n",
    "\n",
    "        beforepredicted = np.array(before[:,2], float)\n",
    "        beforeactual = np.array(before[:,4], float)\n",
    "\n",
    "        duringpredicted = np.array(during[:,2], float)\n",
    "        duringactual = np.array(during[:,4], float)\n",
    "\n",
    "        afterpredicted = np.array(after[:,2], float)\n",
    "        afteractual = np.array(after[:,4], float)\n",
    "        \n",
    "        start = intresults[:300]\n",
    "        stop = intresults[-300:]\n",
    "        \n",
    "        predictedstart = np.array(start[:,2], np.float)\n",
    "        actualstart = np.array(start[:,4], np.float)\n",
    "        \n",
    "        predictedstop = np.array(stop[:,2], np.float)\n",
    "        actualstop = np.array(stop[:,4], np.float)\n",
    "        \n",
    "        allstartpredicted = np.vstack((allstartpredicted, predictedstart))\n",
    "        allstartactual = np.vstack((allstartactual, actualstart))\n",
    "        \n",
    "        allstoppredicted = np.vstack((allstoppredicted, predictedstop))\n",
    "        allstopactual = np.vstack((allstopactual, actualstop))\n",
    "        \n",
    "        \n",
    "        results = np.hstack((inte, ratID[f], date[f], intresults[0][-1], metrics.balanced_accuracy_score(beforeactual, beforepredicted), metrics.balanced_accuracy_score(duringactual, duringpredicted), metrics.balanced_accuracy_score(afteractual, afterpredicted)))\n",
    "\n",
    "        resultsall = np.vstack((resultsall, results))\n",
    "        #print(duringpredicted.shape)\n",
    "        \n",
    "        \n",
    "resultsall = resultsall[1:]\n",
    "allstartpredicted = allstartpredicted[1:]\n",
    "allstartactual = allstartactual[1:]\n",
    "allstoppredicted = allstoppredicted[1:]\n",
    "allstopactual = allstopactual[1:]\n",
    "\n",
    "    \n",
    "    \n",
    "    "
   ]
  },
  {
   "cell_type": "code",
   "execution_count": 3,
   "metadata": {},
   "outputs": [],
   "source": [
    "A6actualstart = allstartactual[resultsall[:,1] == 'Amygdala6'].T\n",
    "A6predictedstart = allstartpredicted[resultsall[:,1] == 'Amygdala6'].T\n",
    "\n",
    "A6actualstop = allstopactual[resultsall[:,1] == 'Amygdala6'].T\n",
    "A6predictedstop = allstoppredicted[resultsall[:,1] == 'Amygdala6'].T\n",
    "\n",
    "A8actualstart = allstartactual[resultsall[:,1] == 'Amygdala8'].T\n",
    "A8predictedstart = allstartpredicted[resultsall[:,1] == 'Amygdala8'].T\n",
    "\n",
    "A8actualstop = allstopactual[resultsall[:,1] == 'Amygdala8'].T\n",
    "A8predictedstop = allstoppredicted[resultsall[:,1] == 'Amygdala8'].T\n",
    "\n",
    "A10actualstart = allstartactual[resultsall[:,1] == 'Amygdala10'].T\n",
    "A10predictedstart = allstartpredicted[resultsall[:,1] == 'Amygdala10'].T\n",
    "\n",
    "A10actualstop = allstopactual[resultsall[:,1] == 'Amygdala10'].T\n",
    "A10predictedstop = allstoppredicted[resultsall[:,1] == 'Amygdala10'].T\n",
    "\n",
    "A11actualstart = allstartactual[resultsall[:,1] == 'Amygdala11'].T\n",
    "A11predictedstart = allstartpredicted[resultsall[:,1] == 'Amygdala11'].T\n",
    "\n",
    "A11actualstop = allstopactual[resultsall[:,1] == 'Amygdala11'].T\n",
    "A11predictedstop = allstoppredicted[resultsall[:,1] == 'Amygdala11'].T\n"
   ]
  },
  {
   "cell_type": "code",
   "execution_count": 4,
   "metadata": {},
   "outputs": [],
   "source": [
    "A6balancedaccuracystart = []\n",
    "A6balancedaccuracystop = []\n",
    "for x, row in enumerate(A6actualstart):\n",
    "    \n",
    "    A6balancedaccuracystart = np.append(A6balancedaccuracystart, metrics.balanced_accuracy_score(row, A6predictedstart[x]))\n",
    "    \n",
    "for x, row in enumerate(A6actualstop):\n",
    "    \n",
    "    A6balancedaccuracystop = np.append(A6balancedaccuracystop, metrics.balanced_accuracy_score(row, A6predictedstop[x]))\n",
    "    \n",
    "A8balancedaccuracystart = []\n",
    "A8balancedaccuracystop = []\n",
    "for x, row in enumerate(A8actualstart):\n",
    "    A8balancedaccuracystart = np.append(A8balancedaccuracystart, metrics.balanced_accuracy_score(row, A8predictedstart[x]))\n",
    "for x, row in enumerate(A8actualstop):\n",
    "    A8balancedaccuracystop = np.append(A8balancedaccuracystop, metrics.balanced_accuracy_score(row, A8predictedstop[x]))\n",
    "    \n",
    "A10balancedaccuracystart = []\n",
    "A10balancedaccuracystop = []\n",
    "for x, row in enumerate(A10actualstart):\n",
    "    A10balancedaccuracystart = np.append(A10balancedaccuracystart, metrics.balanced_accuracy_score(row, A10predictedstart[x]))\n",
    "for x, row in enumerate(A10actualstop):\n",
    "    A10balancedaccuracystop = np.append(A10balancedaccuracystop, metrics.balanced_accuracy_score(row, A10predictedstop[x]))\n",
    "    \n",
    "A11balancedaccuracystart = []\n",
    "A11balancedaccuracystop = []\n",
    "for x, row in enumerate(A11actualstart):\n",
    "    A11balancedaccuracystart = np.append(A11balancedaccuracystart, metrics.balanced_accuracy_score(row, A11predictedstart[x]))\n",
    "for x, row in enumerate(A11actualstop):\n",
    "    A11balancedaccuracystop = np.append(A11balancedaccuracystop, metrics.balanced_accuracy_score(row, A11predictedstop[x]))"
   ]
  },
  {
   "cell_type": "code",
   "execution_count": 5,
   "metadata": {},
   "outputs": [],
   "source": [
    "startaccuracymean = np.mean(np.vstack((A6balancedaccuracystart, A8balancedaccuracystart, A10balancedaccuracystart, A11balancedaccuracystart)), axis = 0)\n",
    "\n",
    "startaccuracysem = stats.sem(np.vstack((A6balancedaccuracystart, A8balancedaccuracystart, A10balancedaccuracystart, A11balancedaccuracystart)), axis = 0)\n",
    "\n",
    "stopaccuracymean = np.mean(np.vstack((A6balancedaccuracystop, A8balancedaccuracystop, A10balancedaccuracystop, A11balancedaccuracystop)), axis = 0)\n",
    "\n",
    "stopaccuracysem = stats.sem(np.vstack((A6balancedaccuracystop, A8balancedaccuracystop, A10balancedaccuracystop, A11balancedaccuracystop)), axis = 0)"
   ]
  },
  {
   "cell_type": "code",
   "execution_count": 9,
   "metadata": {},
   "outputs": [
    {
     "data": {
      "image/png": "[encoded data removed]",
      "text/plain": [
       "<Figure size 288x180 with 2 Axes>"
      ]
     },
     "metadata": {},
     "output_type": "display_data"
    }
   ],
   "source": [
    "fig, ax = plt.subplots(1,2, figsize = (4,2.5), sharey = True)\n",
    "plt.rcParams['svg.fonttype'] = 'none'\n",
    "\n",
    "ax[0].plot(startaccuracymean)\n",
    "ax[1].plot(stopaccuracymean)\n",
    "\n",
    "ax[0].fill_between(np.arange(len(startaccuracysem)), startaccuracymean-startaccuracysem, startaccuracymean+startaccuracysem, color = 'red', alpha = 0.5)\n",
    "ax[1].fill_between(np.arange(len(stopaccuracysem)), stopaccuracymean-stopaccuracysem, stopaccuracymean+stopaccuracysem, color = 'red', alpha = 0.5)\n",
    "\n",
    "#ax[0].vlines(150, 0, 1, linestyle = '--', alpha = 0.5)\n",
    "#ax[1].vlines(150, 0,1, linestyle = '--', alpha = 0.5)\n",
    "\n",
    "ax[0].set_xlim(30, 270)\n",
    "ax[0].set_xticks((30, 90, 150, 210, 270))\n",
    "\n",
    "ax[1].set_xlim(30, 270)\n",
    "ax[1].set_xticks((30,90,150,210,270))\n",
    "\n",
    "ax[0].set_xticklabels((-2, -1, 0, 1, 2))\n",
    "ax[1].set_xticklabels((-2, -1, 0, 1, 2))\n",
    "ax[0].axvspan(150, 300, color = 'k', alpha = 0.1)\n",
    "ax[1].axvspan(0, 150, color = 'k', alpha = 0.1)\n",
    "\n",
    "ax[0].grid(False)\n",
    "ax[1].grid(False)\n",
    "ax[0].set_facecolor('white')\n",
    "ax[0].spines['left'].set_color('k')\n",
    "ax[0].spines['bottom'].set_color('k')\n",
    "ax[1].set_facecolor('white')\n",
    "ax[1].spines['left'].set_color('k')\n",
    "ax[1].spines['bottom'].set_color('k')\n",
    "\n",
    "ax[0].set_ylim(0,1)\n",
    "\n",
    "ax[0].set_ylabel('Mean Balanced Accuracy')\n",
    "\n",
    "plt.tight_layout()\n",
    "plt.savefig('F:/Figure3_New/LDAbeforeandafter.svg', format = 'svg', dpi = 500, transparent = True)"
   ]
  },
  {
   "cell_type": "code",
   "execution_count": 10,
   "metadata": {},
   "outputs": [],
   "source": [
    "beforepresentationmean = np.mean(np.hstack((np.mean(A6balancedaccuracystart[:150]), np.mean(A8balancedaccuracystart[:150]), np.mean(A10balancedaccuracystart[:150]), np.mean(A11balancedaccuracystart[:150]))))\n",
    "\n",
    "beforepresentationsem = stats.sem(np.hstack((np.mean(A6balancedaccuracystart[:150]), np.mean(A8balancedaccuracystart[:150]), np.mean(A10balancedaccuracystart[:150]), np.mean(A11balancedaccuracystart[:150]))))\n",
    "\n",
    "afterpresentationmean = np.mean(np.hstack((np.mean(A6balancedaccuracystart[150:]), np.mean(A8balancedaccuracystart[150:]), np.mean(A10balancedaccuracystart[150:]), np.mean(A11balancedaccuracystart[150:]))))\n",
    "\n",
    "afterpresentationsem = stats.sem(np.hstack((np.mean(A6balancedaccuracystart[150:]), np.mean(A8balancedaccuracystart[150:]), np.mean(A10balancedaccuracystart[150:]), np.mean(A11balancedaccuracystart[150:]))))\n",
    "\n",
    "beforeremovalmean = np.mean(np.hstack((np.mean(A6balancedaccuracystop[:150]), np.mean(A8balancedaccuracystop[:150]), np.mean(A10balancedaccuracystop[:150]), np.mean(A11balancedaccuracystop[:150]))))\n",
    "\n",
    "beforeremovalsem = stats.sem(np.hstack((np.mean(A6balancedaccuracystop[:150]), np.mean(A8balancedaccuracystop[:150]), np.mean(A10balancedaccuracystop[:150]), np.mean(A11balancedaccuracystop[:150]))))\n",
    "\n",
    "afterremovalmean = np.mean(np.hstack((np.mean(A6balancedaccuracystop[150:]), np.mean(A8balancedaccuracystop[150:]), np.mean(A10balancedaccuracystop[150:]), np.mean(A11balancedaccuracystop[150:]))))\n",
    "\n",
    "afterremovalsem = stats.sem(np.hstack((np.mean(A6balancedaccuracystop[150:]), np.mean(A8balancedaccuracystop[150:]), np.mean(A10balancedaccuracystop[150:]), np.mean(A11balancedaccuracystop[150:]))))"
   ]
  },
  {
   "cell_type": "code",
   "execution_count": 16,
   "metadata": {},
   "outputs": [
    {
     "data": {
      "image/png": "[encoded data removed]",
      "text/plain": [
       "<Figure size 144x180 with 1 Axes>"
      ]
     },
     "metadata": {},
     "output_type": "display_data"
    }
   ],
   "source": [
    "fig, ax = plt.subplots(1, figsize = (2,2.5))\n",
    "plt.rcParams['svg.fonttype'] = 'none'\n",
    "\n",
    "ax.bar((0,1,2,3), (beforepresentationmean, afterpresentationmean, beforeremovalmean, afterremovalmean), yerr = (beforepresentationsem, afterpresentationsem, beforeremovalsem, afterremovalsem))\n",
    "\n",
    "ax.grid(False)\n",
    "ax.set_facecolor('white')\n",
    "ax.spines['left'].set_color('k')\n",
    "ax.spines['bottom'].set_color('k')\n",
    "\n",
    "ax.set_xticks((0,1, 2,3))\n",
    "ax.set_xticklabels(('Baseline', 'Early Event', 'Late Event', 'Post-Event'), rotation = 90)\n",
    "\n",
    "\n",
    "plt.tight_layout()\n",
    "\n",
    "plt.savefig('F:/Figure3_New/LDAbeforeandafter_quantification.svg', format = 'svg', dpi = 500, transparent = True)"
   ]
  },
  {
   "cell_type": "code",
   "execution_count": 87,
   "metadata": {},
   "outputs": [
    {
     "data": {
      "text/plain": [
       "0.011417864987970122"
      ]
     },
     "execution_count": 87,
     "metadata": {},
     "output_type": "execute_result"
    }
   ],
   "source": [
    "beforepresentationsem"
   ]
  },
  {
   "cell_type": "code",
   "execution_count": null,
   "metadata": {},
   "outputs": [],
   "source": []
  }
 ],
 "metadata": {
  "kernelspec": {
   "display_name": "Python 3",
   "language": "python",
   "name": "python3"
  },
  "language_info": {
   "codemirror_mode": {
    "name": "ipython",
    "version": 3
   },
   "file_extension": ".py",
   "mimetype": "text/x-python",
   "name": "python",
   "nbconvert_exporter": "python",
   "pygments_lexer": "ipython3",
   "version": "3.8.5"
  }
 },
 "nbformat": 4,
 "nbformat_minor": 4
}
