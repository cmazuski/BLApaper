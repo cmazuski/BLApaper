{
 "cells": [
  {
   "cell_type": "code",
   "execution_count": 1,
   "metadata": {},
   "outputs": [
    {
     "name": "stdout",
     "output_type": "stream",
     "text": [
      "importing Jupyter notebook from func_analysis.ipynb\n",
      "importing Jupyter notebook from func_behavclass.ipynb\n",
      "importing Jupyter notebook from func_plot.ipynb\n",
      "importing Jupyter notebook from func_format.ipynb\n"
     ]
    }
   ],
   "source": [
    "## calculate ROC responses of neurons\n",
    "\n",
    "import os\n",
    "import matplotlib.pyplot as plt\n",
    "import numpy as np\n",
    "from matplotlib import style\n",
    "style.use('ggplot')\n",
    "import matplotlib.gridspec as gridspec\n",
    "\n",
    "from astropy.convolution import convolve, Box1DKernel, Gaussian1DKernel\n",
    "import yaml\n",
    "\n",
    "import import_ipynb\n",
    "import func_analysis\n",
    "import func_behavclass\n",
    "import func_plot\n",
    "import func_format\n",
    "\n",
    "np.set_printoptions(precision = 3, suppress = True)\n",
    "\n",
    "import warnings\n",
    "warnings.filterwarnings('ignore')\n",
    "\n",
    "from glob import glob\n",
    "import shutil"
   ]
  },
  {
   "cell_type": "code",
   "execution_count": 2,
   "metadata": {},
   "outputs": [],
   "source": [
    "def run_roc(savepath, drive, ratID, date, neuronpath):\n",
    "\n",
    "    configpath = drive+ratID+'/Parameters_'+date+'.yml'\n",
    "\n",
    "    func_format.foldercheck(savepath)\n",
    "\n",
    "    [foldername, inttype, intcat, presentationnum, videosync_start, videosync_stop, framerate, framestouse, intsync_start, intsync_stop] = func_format.openconfig(configpath)\n",
    "    colorscheme = {'Male': 'blue', 'Object': 'purple', 'Food': 'orange', 'Female': 'red'}\n",
    "\n",
    "    firstrow = np.hstack(('Neuron ID', foldername))\n",
    "    output = firstrow\n",
    "    output2 = firstrow\n",
    "\n",
    "    for i, neuron in enumerate(os.listdir(neuronpath)):\n",
    "        allbasefr = []\n",
    "        allintfr = []\n",
    "        if neuron[-4:] == '.npy':\n",
    "            spiketimes = np.load(neuronpath+neuron)/1000\n",
    "        else:\n",
    "            continue\n",
    "        neuronname = neuron[:-4]\n",
    "        neuronresults = neuronname\n",
    "        neuronresults2 = neuronname\n",
    "        allfr = func_analysis.firingrate(spiketimes, 1, spiketimes[0], spiketimes[-1], smooth=False)\n",
    "\n",
    "        ### extract baseline firing - 300s before interaction start --> 10s before\n",
    "        basestart =np.ravel(intsync_start)-300\n",
    "        basestop = np.ravel(intsync_start)-10\n",
    "        for x, time in enumerate(basestart):\n",
    "            basespikes = func_analysis.extractSpikes(spiketimes, basestart[x], basestop[x])\n",
    "            basefr = func_analysis.firingrate(basespikes, 1, basestart[x], basestop[x], smooth=False)\n",
    "            allbasefr = np.hstack((allbasefr, basefr))\n",
    "            \n",
    "        for y, time in enumerate(np.ravel(intsync_start)):\n",
    "            intspikes = func_analysis.extractSpikes(spiketimes, intsync_start[y], intsync_stop[y])\n",
    "            intfr = func_analysis.firingrate(intspikes, 1, intsync_start[y], intsync_stop[y], smooth=False)\n",
    "            allintfr = np.hstack((allintfr, intfr))\n",
    "            \n",
    "        combinedfr = np.hstack((allbasefr, allintfr))\n",
    "\n",
    "        ##calculate random auROC distribution for this neuron\n",
    "        #auROC_distribution = []\n",
    "        #for j in range(1000):\n",
    "            #randombasefr = np.random.choice(combinedfr, 300, replace=False)\n",
    "            #randomintfr = np.random.choice(combinedfr, 300, replace=False)\n",
    "            #[auROC_random, xxx, xxxx] = func_analysis.calcROC(randombasefr, randomintfr)\n",
    "            #auROC_distribution = np.append(auROC_distribution, auROC_random)\n",
    "\n",
    "        #upperlimit = np.nanmean(auROC_distribution)+np.nanstd(auROC_distribution)*3\n",
    "        #lowerlimit = np.nanmean(auROC_distribution)-np.nanstd(auROC_distribution)*3\n",
    "\n",
    "        ##calculate actual ROC score from interaction\n",
    "        for l, folder in enumerate(foldername):\n",
    "            color = colorscheme[intcat[l]]\n",
    "            intstart = intsync_start[l]\n",
    "            intstop = intsync_stop[l]\n",
    "            basestart = intstart-300\n",
    "            basestop = intstart-10\n",
    "            \n",
    "            intspikes = func_analysis.extractSpikes(spiketimes, intstart, intstop)\n",
    "            intfr = func_analysis.firingrate(intspikes, 1, intstart, intstop, smooth=False)\n",
    "            basespikes = func_analysis.extractSpikes(spiketimes, basestart, basestop)\n",
    "            basefr = func_analysis.firingrate(basespikes, 1, basestart, basestop, smooth=False)\n",
    "\n",
    "            ##neuronspike count threshold for calculating (50spikes/~5min = 10spikes per minute for now)\n",
    "            ##there are neurons that decrease their firing drastically upon presentation of stimulus\n",
    "            \n",
    "            if len(intspikes) < 50 and np.max(intfr) < 2:\n",
    "                auROC = 'nan'\n",
    "                sig = 'nan'\n",
    "                neuronresults = np.append(neuronresults, auROC)\n",
    "                neuronresults2 = np.append(neuronresults2, sig)\n",
    "                continue\n",
    "\n",
    "            [auROC, fpr, tpr] = func_analysis.calcROC(allbasefr, intfr)\n",
    "            [auROC2, fpr2, tpr2] = func_analysis.calcROC(basefr, intfr)\n",
    "\n",
    "            ### plot ROC\n",
    "            bins = np.arange(0, np.max(np.hstack((allbasefr, intfr))), 1)\n",
    "            plt.close()\n",
    "            fig, ax = plt.subplots(1, 2, figsize = (4, 2))\n",
    "            ax1 = ax[0]\n",
    "            ax1.hist(allbasefr, alpha=0.5, bins=bins, density=True, color='k', histtype='stepfilled')\n",
    "            ax1.hist(intfr, alpha=0.75, bins=bins, density=True, color=color, histtype='stepfilled')\n",
    "            ax1.set_title('Firing \\nDistributions', fontsize=10)\n",
    "\n",
    "            ax2=ax[1]\n",
    "            ax2.plot([0,1],[0,1], color='k', linestyle='dashed', alpha=0.5)\n",
    "            ax2.plot(fpr,tpr, color=color)\n",
    "            ax2.set_xlim(-.05,1.05)\n",
    "            ax2.set_ylim(-.05,1.05)\n",
    "            ax2.set_title('ROC Curve \\nauROC'+str(np.round(auROC, decimals=2)), fontsize=10)\n",
    "\n",
    "            #ax3=ax[2]\n",
    "            #distrib=ax3.hist(auROC_distribution, bins=np.arange(0,1,.01), color='k', histtype='stepfilled')\n",
    "            #ax3.vlines(auROC,0,np.max(distrib[0]),color=color, lw=1)\n",
    "            #ax3.vlines(np.nanstd(auROC_distribution)*2+np.nanmean(auROC_distribution), 0, np.max(distrib[0]), color='gray', lw=1, linestyle='--')\n",
    "            #ax3.vlines(np.nanmean(auROC_distribution)-np.nanstd(auROC_distribution)*2, 0, np.max(distrib[0]), color='gray', lw=1, linestyle='--')\n",
    "            #ax3.set_title('Significance \\nProbability', fontsize=10)\n",
    "\n",
    "            plt.tight_layout()\n",
    "            plt.savefig(savepath+neuronname+'_'+folder+'.png', dpi = 300)\n",
    "\n",
    "            #if auROC > upperlimit:\n",
    "                #sig = 'increase'\n",
    "            #elif auROC < lowerlimit:\n",
    "                #sig = 'decrease'\n",
    "            #else:\n",
    "                #sig = 'none'\n",
    "\n",
    "            neuronresults = np.append(neuronresults, auROC)\n",
    "            neuronresults2 = np.append(neuronresults2, auROC2)\n",
    "\n",
    "        output = np.vstack((output, neuronresults))\n",
    "        output2 = np.vstack((output2, neuronresults2))\n",
    "\n",
    "    np.savetxt(savepath+'ROCscores.csv', output, delimiter= ',', fmt = '%s')\n",
    "    np.savetxt(savepath+'ROCscores_allbaseline.csv', output2, delimiter = ',', fmt = '%s')"
   ]
  },
  {
   "cell_type": "code",
   "execution_count": 4,
   "metadata": {},
   "outputs": [
    {
     "name": "stdout",
     "output_type": "stream",
     "text": [
      "F:/Amygdala3/Electrophys/05052018/SpikeTimes/Neurons_Str/\n",
      "yes\n",
      "F:/Amygdala6/Electrophys/13042019/SpikeTimes/Neurons_Str/\n",
      "yes\n",
      "F:/Amygdala8/Electrophys/01102019/SpikeTimes/Neurons_Str/\n",
      "yes\n",
      "F:/Amygdala10/Electrophys/27062020/SpikeTimes/Neurons_Str/\n",
      "yes\n",
      "F:/Amygdala11/Electrophys/06072020/SpikeTimes/Neurons_Str/\n",
      "yes\n"
     ]
    },
    {
     "data": {
      "image/png": "[encoded data removed]",
      "text/plain": [
       "<Figure size 288x144 with 2 Axes>"
      ]
     },
     "metadata": {},
     "output_type": "display_data"
    }
   ],
   "source": [
    "#import os\n",
    "\n",
    "ratID = ['Amygdala3',\n",
    "         'Amygdala6',\n",
    "         'Amygdala8',\n",
    "         'Amygdala10',\n",
    "         'Amygdala11']\n",
    "date = ['05052018', '13042019','01102019',\n",
    "        '27062020', '06072020']\n",
    "drive = 'F:/'\n",
    "\n",
    "for i, rat in enumerate(ratID):\n",
    "    \n",
    "    neuronpath = drive+rat+'/Electrophys/'+date[i]+'/SpikeTimes/Neurons_Str/'\n",
    "    print(neuronpath)\n",
    "    \n",
    "    try:\n",
    "        neurondir = os.listdir(neuronpath)\n",
    "        print('yes')\n",
    "    except:\n",
    "        continue\n",
    "    \n",
    "    savepath = drive+rat+'/Analyses/'+date[i]+'/ROC_Str/'\n",
    "    run_roc(savepath, drive, rat, date[i], neuronpath)"
   ]
  },
  {
   "cell_type": "code",
   "execution_count": 14,
   "metadata": {},
   "outputs": [
    {
     "name": "stdout",
     "output_type": "stream",
     "text": [
      "F:/Amygdala3/Electrophys/05052018/SpikeTimes/Neurons_BA/\n",
      "yes\n",
      "F:/Amygdala6/Electrophys/13042019/SpikeTimes/Neurons_BA/\n",
      "yes\n",
      "F:/Amygdala6/Electrophys/14042019/SpikeTimes/Neurons_BA/\n",
      "yes\n",
      "F:/Amygdala8/Electrophys/01102019/SpikeTimes/Neurons_BA/\n",
      "F:/Amygdala8/Electrophys/02102019/SpikeTimes/Neurons_BA/\n",
      "F:/Amygdala10/Electrophys/27062020/SpikeTimes/Neurons_BA/\n",
      "yes\n",
      "F:/Amygdala10/Electrophys/28062020/SpikeTimes/Neurons_BA/\n",
      "yes\n",
      "F:/Amygdala11/Electrophys/06072020/SpikeTimes/Neurons_BA/\n",
      "yes\n",
      "F:/Amygdala11/Electrophys/07072020/SpikeTimes/Neurons_BA/\n",
      "yes\n"
     ]
    },
    {
     "data": {
      "image/png": "[encoded data removed]",
      "text/plain": [
       "<Figure size 288x144 with 2 Axes>"
      ]
     },
     "metadata": {},
     "output_type": "display_data"
    }
   ],
   "source": [
    "for i, rat in enumerate(ratID):\n",
    "    \n",
    "    neuronpath = drive+rat+'/Electrophys/'+date[i]+'/SpikeTimes/Neurons_BA/'\n",
    "    print(neuronpath)\n",
    "    \n",
    "    try:\n",
    "        neurondir = os.listdir(neuronpath)\n",
    "        print('yes')\n",
    "    except:\n",
    "        continue\n",
    "    \n",
    "    savepath = drive+rat+'/Analyses/'+date[i]+'/ROC_BA/'\n",
    "    run_roc(savepath, drive, rat, date[i], neuronpath)"
   ]
  },
  {
   "cell_type": "code",
   "execution_count": 15,
   "metadata": {},
   "outputs": [
    {
     "name": "stdout",
     "output_type": "stream",
     "text": [
      "F:/Amygdala3/Electrophys/05052018/SpikeTimes/Neurons_LA/\n",
      "yes\n",
      "F:/Amygdala6/Electrophys/13042019/SpikeTimes/Neurons_LA/\n",
      "F:/Amygdala6/Electrophys/14042019/SpikeTimes/Neurons_LA/\n",
      "F:/Amygdala8/Electrophys/01102019/SpikeTimes/Neurons_LA/\n",
      "yes\n",
      "F:/Amygdala8/Electrophys/02102019/SpikeTimes/Neurons_LA/\n",
      "yes\n",
      "F:/Amygdala10/Electrophys/27062020/SpikeTimes/Neurons_LA/\n",
      "F:/Amygdala10/Electrophys/28062020/SpikeTimes/Neurons_LA/\n",
      "F:/Amygdala11/Electrophys/06072020/SpikeTimes/Neurons_LA/\n",
      "yes\n",
      "F:/Amygdala11/Electrophys/07072020/SpikeTimes/Neurons_LA/\n",
      "yes\n"
     ]
    },
    {
     "data": {
      "image/png": "[encoded data removed]",
      "text/plain": [
       "<Figure size 288x144 with 2 Axes>"
      ]
     },
     "metadata": {},
     "output_type": "display_data"
    }
   ],
   "source": [
    "for i, rat in enumerate(ratID):\n",
    "    \n",
    "    neuronpath = drive+rat+'/Electrophys/'+date[i]+'/SpikeTimes/Neurons_LA/'\n",
    "    print(neuronpath)\n",
    "    \n",
    "    try:\n",
    "        neurondir = os.listdir(neuronpath)\n",
    "        print('yes')\n",
    "    except:\n",
    "        continue\n",
    "    \n",
    "    savepath = drive+rat+'/Analyses/'+date[i]+'/ROC_LA/'\n",
    "    run_roc(savepath, drive, rat, date[i], neuronpath)"
   ]
  },
  {
   "cell_type": "code",
   "execution_count": null,
   "metadata": {},
   "outputs": [],
   "source": []
  }
 ],
 "metadata": {
  "kernelspec": {
   "display_name": "Python 3",
   "language": "python",
   "name": "python3"
  },
  "language_info": {
   "codemirror_mode": {
    "name": "ipython",
    "version": 3
   },
   "file_extension": ".py",
   "mimetype": "text/x-python",
   "name": "python",
   "nbconvert_exporter": "python",
   "pygments_lexer": "ipython3",
   "version": "3.8.5"
  }
 },
 "nbformat": 4,
 "nbformat_minor": 4
}
