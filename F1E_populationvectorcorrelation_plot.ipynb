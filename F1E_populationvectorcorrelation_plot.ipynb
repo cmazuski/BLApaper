{
 "cells": [
  {
   "cell_type": "code",
   "execution_count": 34,
   "metadata": {},
   "outputs": [],
   "source": [
    "#### calculate consistency among different groups of neurons\n",
    "\n",
    "import numpy as np\n",
    "import os\n",
    "import matplotlib.pyplot as plt\n",
    "\n",
    "import import_ipynb\n",
    "import func_format\n",
    "import func_analysis\n",
    "\n",
    "import scipy as sp\n",
    "from scipy import stats"
   ]
  },
  {
   "cell_type": "code",
   "execution_count": 35,
   "metadata": {},
   "outputs": [],
   "source": [
    "def extractusableint(modality, intcat, foldername, presentationnumber):\n",
    "    if modality == 'female':\n",
    "        usableint = np.ravel(foldername)[np.ravel(intcat) == 'Female']\n",
    "        usablepresentationnumber = np.ravel(presentationnumber)[np.ravel(intcat) == 'Female']\n",
    "    elif modality == 'male':\n",
    "        usableint = np.ravel(foldername)[np.ravel(intcat) == 'Male']\n",
    "        usablepresentationnumber = np.ravel(presentationnumber)[np.ravel(intcat) == 'Male']\n",
    "    elif modality == 'object':\n",
    "        usableint = np.ravel(foldername)[np.ravel(intcat) == 'Object']\n",
    "        usablepresentationnumber = np.ravel(presentationnumber)[np.ravel(intcat) == 'Object']\n",
    "    elif modality == 'food':\n",
    "        usableint = np.ravel(foldername)[np.ravel(intcat) == 'Food']\n",
    "        usablepresentationnumber = np.ravel(presentationnumber)[np.ravel(intcat) == 'Food']\n",
    "    elif modality == 'social':\n",
    "        usableint = np.ravel(foldername)[np.ravel(intcat) == 'Male']\n",
    "        usableint = np.append(usableint, np.ravel(foldername)[np.ravel(intcat) == 'Female'])\n",
    "        usablepresentationnumber = np.ravel(presentationnumber)[np.ravel(intcat) == 'Male']\n",
    "        usablepresentationnumber = np.append(usablepresentationnumber, np.ravel(presentationnumber)[np.ravel(intcat) == 'Female'])\n",
    "    elif modality == 'nonsocial':\n",
    "        usableint = np.ravel(foldername)[np.ravel(intcat) == 'Object']\n",
    "        usableint = np.append(usableint, np.ravel(foldername)[np.ravel(intcat) == 'Food'])\n",
    "        usablepresentationnumber = np.ravel(presentationnumber)[np.ravel(intcat) == 'Object']\n",
    "        usablepresentationnumber = np.append(usablepresentationnumber, np.ravel(presentationnumber)[np.ravel(intcat) == 'Food'])\n",
    "    elif modality == 'panresponsive':\n",
    "        usableint = foldername\n",
    "        usablepresentationnumber = presentationnumber\n",
    "    else:\n",
    "        usableint = foldername\n",
    "        usablepresentationnumber = presentationnumber\n",
    "    \n",
    "    return(usableint, usablepresentationnumber)"
   ]
  },
  {
   "cell_type": "code",
   "execution_count": 36,
   "metadata": {},
   "outputs": [],
   "source": [
    "def pearson_noNANpairs(reorderedROC):\n",
    "    reorderedROC = (np.array(reorderedROC, np.float)-.5)*2\n",
    "\n",
    "    for j, column in enumerate(reorderedROC):\n",
    "        column1values = np.array(column[1:], dtype = np.float32)\n",
    "        outputr = []\n",
    "        outputp = []\n",
    "\n",
    "        for k, column2 in enumerate(reorderedROC):\n",
    "            columncompare = np.array(column2[1:], dtype = np.float32)\n",
    "            combine = np.vstack((column1values, columncompare)).T\n",
    "            [row, col] = np.where(np.isnan(combine) == True)\n",
    "            nonans = np.delete(combine, np.unique(row), axis = 0)\n",
    "            [pearsonr, pvalue] = stats.pearsonr(nonans[:,0], nonans[:,1])\n",
    "\n",
    "            outputr = np.append(outputr, pearsonr)\n",
    "            outputp = np.append(outputp, pvalue)\n",
    "\n",
    "        if j == 0:\n",
    "            pearsonrall = outputr\n",
    "            pvalueall = outputp\n",
    "        else:\n",
    "            pearsonrall = np.vstack((pearsonrall, outputr))\n",
    "            pvalueall = np.vstack((pvalueall, outputp))\n",
    "            \n",
    "    return(pearsonrall, pvalueall)"
   ]
  },
  {
   "cell_type": "code",
   "execution_count": 37,
   "metadata": {},
   "outputs": [],
   "source": [
    "#responseprofile = np.loadtxt('F:/ResponseType/ResponseType_Str_5rats/responseprofile.csv', delimiter = ',', dtype = str)\n",
    "responseprofile = np.loadtxt('F:/ResponseType/ResponseType_BLA/responseprofile.csv', delimiter = ',', dtype = str)"
   ]
  },
  {
   "cell_type": "code",
   "execution_count": 38,
   "metadata": {},
   "outputs": [],
   "source": [
    "unimodal = responseprofile[responseprofile[:,3] == 'unimodal']\n",
    "multimodal = responseprofile[responseprofile[:,3] == 'multimodal']\n",
    "panresponsive = responseprofile[responseprofile[:,4] == 'panresponsive']"
   ]
  },
  {
   "cell_type": "code",
   "execution_count": 39,
   "metadata": {},
   "outputs": [],
   "source": [
    "femaleresponse = responseprofile[responseprofile[:,4] == 'female']\n",
    "maleresponse = responseprofile[responseprofile[:,4] == 'male']\n",
    "objresponse = responseprofile[responseprofile[:,4] == 'object']\n",
    "foodresponse = responseprofile[responseprofile[:,4] == 'food']\n",
    "inhibition = responseprofile[responseprofile[:,3] == 'Inhibition']"
   ]
  },
  {
   "cell_type": "code",
   "execution_count": 40,
   "metadata": {},
   "outputs": [],
   "source": [
    "allresponsive = np.vstack((multimodal, unimodal))"
   ]
  },
  {
   "cell_type": "code",
   "execution_count": 41,
   "metadata": {},
   "outputs": [],
   "source": [
    "order = ['Female1', 'Female2', 'NovelMale1', 'NovelMale2', 'Toy', 'Rice']\n",
    "\n",
    "for i, row in enumerate(allresponsive):\n",
    "    configpath = 'F:/'+row[0]+'/Parameters_'+row[1]+'.yml'\n",
    "    \n",
    "    ROCscores = np.loadtxt('F:/'+row[0]+'/Analyses/'+row[1]+'/ROC_BLA/ROCscores.csv', delimiter = ',', dtype = str)\n",
    "    #ROCscoresafter = np.loadtxt('F:/'+row[0]+'/Analyses/'+row[1]+'/ROC_aftereffectBLA/ROCscores.csv', delimiter = ',', dtype = str)\n",
    "    [foldername, inttype, intcat, presentationnum, videosync_start, videosync_stop, framerate, framestouse, intsync_start, intsync_stop] = func_format.openconfig(configpath)\n",
    "    \n",
    "    neuronROC = np.ravel(ROCscores[ROCscores[:,0] == row[2]])\n",
    "    #neuronROCafter = np.ravel(ROCscoresafter[ROCscoresafter[:,0] == row[2]])\n",
    "    #print(row[2])\n",
    "    \n",
    "    for j, item in enumerate(order):\n",
    "        index = np.where(np.ravel(inttype) == order[j])\n",
    "        values = neuronROC[1:][index]\n",
    "        #values2 = neuronROCafter[1:][index]\n",
    "        #values[values == 'nan'] = .5\n",
    "        if len(values) == 1:\n",
    "            values = np.append(values, np.nan)\n",
    "        #if len(values2) == 1:\n",
    "            #values2 = np.append(values2, np.nan)\n",
    "        if len(values) == 0:\n",
    "            values = [np.nan, np.nan]\n",
    "        #if len(values2) == 0:\n",
    "            #values2 = [np.nan, np.nan]\n",
    "            \n",
    "        if j == 0:\n",
    "            ROClist = values\n",
    "            #ROCafterlist = values2\n",
    "        else:\n",
    "            ROClist = np.hstack((ROClist, values))\n",
    "            #ROCafterlist = np.hstack((ROCafterlist, values2))\n",
    "    if i == 0:\n",
    "        save = ROClist\n",
    "        #save2 = ROCafterlist\n",
    "        neuronID = row[:5]\n",
    "    else:\n",
    "        save = np.vstack((save, ROClist))\n",
    "        #save2 = np.vstack((save2, ROCafterlist))\n",
    "        neuronID = np.vstack((neuronID, row[:5]))\n",
    "        \n",
    "    #neuronID = row[:5]\n",
    "    #print(np.ravel(inttype)[np.ravel(intcat) == 'Female'], row[0], row[1])\n",
    "    #print(row[0])"
   ]
  },
  {
   "cell_type": "code",
   "execution_count": 42,
   "metadata": {},
   "outputs": [],
   "source": [
    "interaction = pearson_noNANpairs(save.T)\n",
    "#afterinteraction = pearson_noNANpairs(save2.T)"
   ]
  },
  {
   "cell_type": "code",
   "execution_count": 46,
   "metadata": {},
   "outputs": [
    {
     "name": "stderr",
     "output_type": "stream",
     "text": [
      "<ipython-input-46-7be512e8741c>:6: UserWarning: FixedFormatter should only be used together with FixedLocator\n",
      "  ax.set_xticklabels(('Female1', 'Female2', 'Male1', 'Male2', 'Object', 'Food'), rotation = 90)\n"
     ]
    },
    {
     "data": {
      "image/png": "[encoded data removed]",
      "text/plain": [
       "<Figure size 288x288 with 1 Axes>"
      ]
     },
     "metadata": {},
     "output_type": "display_data"
    }
   ],
   "source": [
    "plt.close()\n",
    "fig, ax = plt.subplots(1, figsize = (4, 4))\n",
    "cb = ax.pcolormesh(interaction[0], vmin = -1, vmax = 1, cmap = 'seismic')\n",
    "#cb = ax.imshow(interaction[0], vmin = -1, vmax = 1, cmap = 'seismic')\n",
    "ax.grid(False)\n",
    "ax.set_xticklabels(('Female1', 'Female2', 'Male1', 'Male2', 'Object', 'Food'), rotation = 90)\n",
    "ax.set_xticks((1, 3, 5, 7, 9, 11))\n",
    "ax.set_yticks((1, 3, 5, 7, 9, 11))\n",
    "ax.set_yticklabels(('Female1', 'Female2', 'Male1', 'Male2', 'Object', 'Food'))\n",
    "ax.set_xlim(len(interaction[0]), 0)\n",
    "ax.set_ylim(len(interaction[0]), 0)\n",
    "\n",
    "ax.hlines(4, 16, -.5, lw = 2, color = 'white')\n",
    "ax.hlines(8, 16, -.5, lw = 2, color = 'white')\n",
    "ax.hlines(10, 16, -.5, lw = 2, color = 'white')\n",
    "#ax.hlines(11.5, 16, -.5, lw = 2, color = 'white')\n",
    "ax.vlines(4, 16, -.5, lw = 2, color = 'white')\n",
    "ax.vlines(8, 16, -.5, lw = 2, color = 'white')\n",
    "ax.vlines(10, 16, -.5, lw = 2, color = 'white')\n",
    "#ax.vlines(11.5, 16, -.5, lw = 2, color = 'white')\n",
    "\n",
    "#plt.colorbar(cb, shrink = .5, ticks = (-1, 0, 1))\n",
    "plt.tight_layout()\n",
    "plt.rcParams['svg.fonttype'] = 'none'\n",
    "plt.savefig('F:/Figures_median/F1_BLAPopulationCorrelation.png', dpi = 300)\n",
    "plt.savefig('F:/Figures_median/F1_BLAPopulationCorrelation.svg', format = 'svg', dpi = 500, transparent = True)\n",
    "#plt.savefig('F:/AgglomerativeClusteringPlots/PopulationCorrelation.png', dpi = 300)\n",
    "#plt.savefig('F:/StrPopulationCorrelation.png', dpi = 300)\n",
    "#plt.savefig('F:/Figure1/F1_BLAPopulationCorrelation_4rats.svg', format = 'svg', dpi = 500, transparent = True)"
   ]
  },
  {
   "cell_type": "code",
   "execution_count": null,
   "metadata": {},
   "outputs": [],
   "source": []
  }
 ],
 "metadata": {
  "kernelspec": {
   "display_name": "Python 3",
   "language": "python",
   "name": "python3"
  },
  "language_info": {
   "codemirror_mode": {
    "name": "ipython",
    "version": 3
   },
   "file_extension": ".py",
   "mimetype": "text/x-python",
   "name": "python",
   "nbconvert_exporter": "python",
   "pygments_lexer": "ipython3",
   "version": "3.8.5"
  }
 },
 "nbformat": 4,
 "nbformat_minor": 4
}
